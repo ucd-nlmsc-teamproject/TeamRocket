{
 "cells": [
  {
   "cell_type": "code",
   "execution_count": 1,
   "metadata": {},
   "outputs": [],
   "source": [
    "#Fetching data from COVID-19 API by Yatko API\n",
    "\n",
    "import pandas as pd\n",
    "import numpy as np\n",
    "import urllib.request\n",
    "import os\n",
    "import csv\n",
    "import requests\n",
    "import json\n",
    "import warnings\n",
    "warnings.filterwarnings(\"ignore\")"
   ]
  },
  {
   "cell_type": "code",
   "execution_count": 2,
   "metadata": {},
   "outputs": [],
   "source": [
    "def Save_file(df,name,I):\n",
    "    path =r\"C:\\Users\\apurv\\Data Science in Python\\Project\\Datascripts\\CSV Data\"\n",
    "    output_file = os.path.join(path,'%s.csv'%name)\n",
    "    if I == 1:\n",
    "        df.to_csv(output_file)\n",
    "    elif I == 0:\n",
    "        df.to_csv(output_file,index=False)"
   ]
  },
  {
   "cell_type": "code",
   "execution_count": 3,
   "metadata": {},
   "outputs": [],
   "source": [
    "def get_data(link):\n",
    "    response = requests.get(link) #fetching data from the API\n",
    "    data = response.json()\n",
    "    region = data['data'] #accessing data available in the key: data\n",
    "    df_region = pd.DataFrame(region['regions']) #creating a df\n",
    "    covid_df = df_region.T #transpose\n",
    "    covid_summary = pd.DataFrame(region['summary'],index = ['Worldwide'])   #for the summary data (worldwide)\n",
    "    return covid_df, covid_summary"
   ]
  },
  {
   "cell_type": "code",
   "execution_count": 4,
   "metadata": {},
   "outputs": [],
   "source": [
    "url = \"https://api.quarantine.country/api/v1/summary/latest\"\n",
    "rawdata_Yatko, worldwide_summary_Yatko = get_data(url)"
   ]
  },
  {
   "cell_type": "code",
   "execution_count": 5,
   "metadata": {},
   "outputs": [],
   "source": [
    "#rawdata_Yatko.head(20)"
   ]
  },
  {
   "cell_type": "code",
   "execution_count": 6,
   "metadata": {},
   "outputs": [],
   "source": [
    "#rawdata_Yatko Yatko_WorldSummary\n",
    "Save_file(rawdata_Yatko,\"Raw_data_Yatko\",0)\n",
    "Save_file(worldwide_summary_Yatko,\"Worldwide_Summary_Yatko\",0)\n",
    "# rawdata_Yatko.to_csv(r'C:\\Users\\apurv\\Data Science in Python\\Project\\AllDumps\\Yatko_RawData.csv',index = False)\n",
    "# worldwide_summary_Yatko.to_csv(r'C:\\Users\\apurv\\Data Science in Python\\Project\\AllDumps\\Yatko_WorldSummary',index = False)"
   ]
  },
  {
   "cell_type": "code",
   "execution_count": 7,
   "metadata": {},
   "outputs": [],
   "source": [
    "def Clean_Data(df):\n",
    "    df = df.drop(columns = ['iso3166a3', 'iso3166numeric', 'change']) #dropping unnecessary columns\n",
    "    df = df.rename(columns = {'name': 'Country', 'iso3166a2': 'CountryCode'})\n",
    "    return df"
   ]
  },
  {
   "cell_type": "code",
   "execution_count": 8,
   "metadata": {},
   "outputs": [],
   "source": [
    "CleanData_Yatko = Clean_Data(rawdata_Yatko)\n",
    "Save_file(CleanData_Yatko,\"CleanData_Yatko\",0)"
   ]
  },
  {
   "cell_type": "code",
   "execution_count": 9,
   "metadata": {},
   "outputs": [],
   "source": [
    "#df_JH_Summary = pd.read_csv(r'C:\\Users\\apurv\\Data Science in Python\\Project\\AllDumps\\CLEANED_covid_summary_dump.csv')\n",
    "df_JH_Summary = pd.read_csv(r'C:\\Users\\apurv\\Data Science in Python\\Project\\Datascripts\\CSV Data\\Covid_World_Summary.csv')"
   ]
  },
  {
   "cell_type": "code",
   "execution_count": 10,
   "metadata": {},
   "outputs": [],
   "source": [
    "#Function to make the Yatko data feasible to integrate with Johns Hopkinns data\n",
    "#Pre-processing on Yatko \n",
    "\n",
    "def Data_integration(df,df2):\n",
    "    #finding out the countries where null values exist using the CountryCode\n",
    "    U = df[df['CountryCode'].isnull()].index.tolist()\n",
    "    df.loc[U,'CountryCode'] = \"NA\" \n",
    "    #renaming some records to match the two dfs easily \n",
    "    df2 = df2.replace(to_replace =\"USA\", value =\"United States of America\") #replacing USA and UK with their complete names\n",
    "    df2 = df2.replace(to_replace =\"UK\", value =\"United Kingdom\")\n",
    "    K = df2[df2['CountryCode'].isnull()].index.tolist()\n",
    "    for i in range(len(K)-1):\n",
    "        L = df2.loc[K[i],\"Country\"] #popping countries not required\n",
    "        if (L == 'Diamond Princess'):\n",
    "            K.pop(i)\n",
    "        elif (L == 'Ms Zaandam'):\n",
    "            K.pop(i)\n",
    "    \n",
    "    #handling data for the countries Congo, CAR (Central African Republic), Namibia, Lesotho to match in both the dfs\n",
    "    \n",
    "    for i in range(len(K)):\n",
    "        E = df2.loc[K[i],'Country']\n",
    "        Y = df[df['Country']==E].index.values.astype(int)\n",
    "        if (E == 'DRC'):\n",
    "            df2.loc[K[i],'Country'] = 'Congo (Kinshasa)'\n",
    "        elif (E == 'Car'):\n",
    "            df2.loc[K[i],'Country'] = 'Central African Republic'\n",
    "    \n",
    "    for i in range(len(K)):\n",
    "        N = df2.loc[K[i],'Country']\n",
    "        M = df[df['Country']==N].index.values.astype(int)\n",
    "        if (N == 'Congo (Kinshasa)'):\n",
    "            df2.loc[K[i],'CountryCode'] = df.loc[M[0],'CountryCode']\n",
    "        elif (N == 'Central African Republic'):\n",
    "            df2.loc[K[i],'CountryCode'] = df.loc[M[0],'CountryCode']\n",
    "        elif (N == 'Namibia'):\n",
    "            df2.loc[K[i],'CountryCode'] = df.loc[M[0],'CountryCode']\n",
    "        elif (N == 'Lesotho'):\n",
    "            df2.loc[K[i],'CountryCode'] = df.loc[M[0],'CountryCode']\n",
    "        \n",
    "    J = df2[df2['CountryCode'].isnull()].index.tolist()\n",
    "    for i in range(len(J)):\n",
    "        df2 = df2.drop(J[i], axis = 'index')\n",
    "    \n",
    "    df2 = df2.sort_values(by = ['Country'], ascending = True) #sorting the df Country wise\n",
    "    \n",
    "    return df2"
   ]
  },
  {
   "cell_type": "code",
   "execution_count": 11,
   "metadata": {},
   "outputs": [],
   "source": [
    "Yatko_summary = Data_integration(df_JH_Summary, CleanData_Yatko)\n",
    "#Yatko_summary.info()"
   ]
  },
  {
   "cell_type": "code",
   "execution_count": 12,
   "metadata": {},
   "outputs": [],
   "source": [
    "Save_file(Yatko_summary,\"Yatko_summary\",0)"
   ]
  },
  {
   "cell_type": "code",
   "execution_count": 13,
   "metadata": {},
   "outputs": [],
   "source": [
    "#function to merge both the dataframes\n",
    "\n",
    "def Merge_data(df,df2):\n",
    "    M_df = pd.merge(df, df2, on = [\"CountryCode\"], how = \"left\") #using inner join on the two dfs to retain all values\n",
    "    M_df = M_df.drop_duplicates('CountryCode', keep = \"first\") #deleting the rest duplicates(if any),only keeping first \n",
    "#     TP  = df.iloc[[df[df['CountryCode']=='XK'].index.values.astype(int)[0]]] #Handling data for country with countrycode 'XK'\n",
    "#     TP = TP.rename(columns= {'Country': 'Country_x'})\n",
    "#     M_df = M_df.append(TP)\n",
    "    M_df = M_df.fillna(0)\n",
    "    M_df = M_df.drop(['Country_y', 'active_cases', 'deaths', 'recovered','total_cases'], axis = 1)\n",
    "    M_df = M_df.rename(columns= {'Country_x': 'Country','critical': 'CriticalCases','death_ratio': 'DeathRatio','recovery_ratio': 'RecoveryRatio', 'tested': 'Total Tests Done'})\n",
    "    M_df = M_df.sort_values(by=['Country'], ascending = True)\n",
    "    return M_df"
   ]
  },
  {
   "cell_type": "code",
   "execution_count": 14,
   "metadata": {},
   "outputs": [],
   "source": [
    "Merged_data = Merge_data(df_JH_Summary,Yatko_summary)\n",
    "#Merged_data.info()"
   ]
  },
  {
   "cell_type": "code",
   "execution_count": 15,
   "metadata": {},
   "outputs": [
    {
     "name": "stdout",
     "output_type": "stream",
     "text": [
      "Script Ran Successfully!\n"
     ]
    }
   ],
   "source": [
    "Save_file(Merged_data,\"MergedDF_Yatko_JohnsHopkinns\",0)\n",
    "print(\"Script Ran Successfully!\")"
   ]
  }
 ],
 "metadata": {
  "kernelspec": {
   "display_name": "Python 3",
   "language": "python",
   "name": "python3"
  },
  "language_info": {
   "codemirror_mode": {
    "name": "ipython",
    "version": 3
   },
   "file_extension": ".py",
   "mimetype": "text/x-python",
   "name": "python",
   "nbconvert_exporter": "python",
   "pygments_lexer": "ipython3",
   "version": "3.7.4"
  }
 },
 "nbformat": 4,
 "nbformat_minor": 2
}
