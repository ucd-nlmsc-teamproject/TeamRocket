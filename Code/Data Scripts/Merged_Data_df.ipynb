{
 "cells": [
  {
   "cell_type": "code",
   "execution_count": 1,
   "metadata": {},
   "outputs": [],
   "source": [
    "import pandas as pd\n",
    "import numpy as np\n",
    "import urllib.request\n",
    "import os\n",
    "import csv\n",
    "import requests\n",
    "import json\n",
    "import warnings\n",
    "warnings.filterwarnings(\"ignore\")"
   ]
  },
  {
   "cell_type": "code",
   "execution_count": 2,
   "metadata": {},
   "outputs": [],
   "source": [
    "def Save_file(df,name,I):\n",
    "    path =r\"C:\\Users\\apurv\\Data Science in Python\\Project\\Datascripts\\CSV Data\"\n",
    "    output_file = os.path.join(path,'%s.csv'%name)\n",
    "    if I == 1:\n",
    "        df.to_csv(output_file)\n",
    "    elif I == 0:\n",
    "        df.to_csv(output_file,index=False)"
   ]
  },
  {
   "cell_type": "code",
   "execution_count": 3,
   "metadata": {},
   "outputs": [],
   "source": [
    "def get_data(link):\n",
    "    response = requests.get(link) \n",
    "    data = response.json()\n",
    "    region = data['data'] \n",
    "    df_region = pd.DataFrame(region['regions']) \n",
    "    covid_df = df_region.T \n",
    "    covid_summary = pd.DataFrame(region['summary'],index = ['Worldwide'])   \n",
    "    return covid_df, covid_summary"
   ]
  },
  {
   "cell_type": "code",
   "execution_count": 4,
   "metadata": {},
   "outputs": [],
   "source": [
    "url = \"https://api.quarantine.country/api/v1/summary/latest\"\n",
    "rawdata_Yatko, worldwide_summary_Yatko = get_data(url)"
   ]
  },
  {
   "cell_type": "code",
   "execution_count": 5,
   "metadata": {},
   "outputs": [],
   "source": [
    "\n",
    "Save_file(rawdata_Yatko,\"Raw_data_Yatko\",0)\n",
    "Save_file(worldwide_summary_Yatko,\"Worldwide_Summary_Yatko\",0)\n"
   ]
  },
  {
   "cell_type": "code",
   "execution_count": 6,
   "metadata": {},
   "outputs": [],
   "source": [
    "def Clean_Data(df):\n",
    "    df = df.drop(columns = ['iso3166a3', 'iso3166numeric', 'change']) \n",
    "    df = df.rename(columns = {'name': 'Country', 'iso3166a2': 'CountryCode'})\n",
    "    return df"
   ]
  },
  {
   "cell_type": "code",
   "execution_count": 7,
   "metadata": {},
   "outputs": [],
   "source": [
    "CleanData_Yatko = Clean_Data(rawdata_Yatko)\n",
    "Save_file(CleanData_Yatko,\"CleanData_Yatko\",0)"
   ]
  },
  {
   "cell_type": "code",
   "execution_count": 8,
   "metadata": {},
   "outputs": [],
   "source": [
    "df_JH_Summary = pd.read_csv(r'C:\\Users\\apurv\\Data Science in Python\\Project\\Datascripts\\CSV Data\\Covid_World_Summary.csv')"
   ]
  },
  {
   "cell_type": "code",
   "execution_count": 9,
   "metadata": {},
   "outputs": [],
   "source": [
    "def Data_integration(df,df2):\n",
    "    \n",
    "    U = df[df['CountryCode'].isnull()].index.tolist()\n",
    "    df.loc[U,'CountryCode'] = \"NA\" \n",
    "    \n",
    "    df2 = df2.replace(to_replace =\"USA\", value =\"United States of America\") \n",
    "    df2 = df2.replace(to_replace =\"UK\", value =\"United Kingdom\")\n",
    "    K = df2[df2['CountryCode'].isnull()].index.tolist()\n",
    "    for i in range(len(K)-1):\n",
    "        L = df2.loc[K[i],\"Country\"] \n",
    "        if (L == 'Diamond Princess'):\n",
    "            K.pop(i)\n",
    "        elif (L == 'Ms Zaandam'):\n",
    "            K.pop(i)\n",
    "    \n",
    "    \n",
    "    for i in range(len(K)):\n",
    "        E = df2.loc[K[i],'Country']\n",
    "        Y = df[df['Country']==E].index.values.astype(int)\n",
    "        if (E == 'DRC'):\n",
    "            df2.loc[K[i],'Country'] = 'Congo (Kinshasa)'\n",
    "        elif (E == 'Car'):\n",
    "            df2.loc[K[i],'Country'] = 'Central African Republic'\n",
    "    \n",
    "    for i in range(len(K)):\n",
    "        N = df2.loc[K[i],'Country']\n",
    "        M = df[df['Country']==N].index.values.astype(int)\n",
    "        if (N == 'Congo (Kinshasa)'):\n",
    "            df2.loc[K[i],'CountryCode'] = df.loc[M[0],'CountryCode']\n",
    "        elif (N == 'Central African Republic'):\n",
    "            df2.loc[K[i],'CountryCode'] = df.loc[M[0],'CountryCode']\n",
    "        elif (N == 'Namibia'):\n",
    "            df2.loc[K[i],'CountryCode'] = df.loc[M[0],'CountryCode']\n",
    "        elif (N == 'Lesotho'):\n",
    "            df2.loc[K[i],'CountryCode'] = df.loc[M[0],'CountryCode']\n",
    "        \n",
    "    J = df2[df2['CountryCode'].isnull()].index.tolist()\n",
    "    for i in range(len(J)):\n",
    "        df2 = df2.drop(J[i], axis = 'index')\n",
    "    \n",
    "    df2 = df2.sort_values(by = ['Country'], ascending = True) \n",
    "    \n",
    "    return df2"
   ]
  },
  {
   "cell_type": "code",
   "execution_count": 10,
   "metadata": {},
   "outputs": [],
   "source": [
    "Yatko_summary = Data_integration(df_JH_Summary, CleanData_Yatko)\n"
   ]
  },
  {
   "cell_type": "code",
   "execution_count": 11,
   "metadata": {},
   "outputs": [],
   "source": [
    "Save_file(Yatko_summary,\"Yatko_summary\",0)"
   ]
  },
  {
   "cell_type": "code",
   "execution_count": 12,
   "metadata": {},
   "outputs": [],
   "source": [
    "def Merge_data(df,df2):\n",
    "    M_df = pd.merge(df, df2, on = [\"CountryCode\"], how = \"left\") \n",
    "    M_df = M_df.drop_duplicates('CountryCode', keep = \"first\") \n",
    "\n",
    "    M_df = M_df.fillna(0)\n",
    "    M_df = M_df.drop(['Country_y', 'active_cases', 'deaths', 'recovered','total_cases'], axis = 1)\n",
    "    M_df = M_df.rename(columns= {'Country_x': 'Country','critical': 'CriticalCases','death_ratio': 'DeathRatio','recovery_ratio': 'RecoveryRatio', 'tested': 'Total Tests Done'})\n",
    "    M_df = M_df.sort_values(by=['Country'], ascending = True)\n",
    "    return M_df"
   ]
  },
  {
   "cell_type": "code",
   "execution_count": 13,
   "metadata": {},
   "outputs": [],
   "source": [
    "Merged_data = Merge_data(df_JH_Summary,Yatko_summary)"
   ]
  },
  {
   "cell_type": "code",
   "execution_count": 14,
   "metadata": {},
   "outputs": [
    {
     "name": "stdout",
     "output_type": "stream",
     "text": [
      "Script Ran Successfully!\n"
     ]
    }
   ],
   "source": [
    "Save_file(Merged_data,\"MergedDF_Yatko_JohnsHopkinns\",0)\n",
    "print(\"Script Ran Successfully!\")"
   ]
  }
 ],
 "metadata": {
  "kernelspec": {
   "display_name": "Python 3",
   "language": "python",
   "name": "python3"
  },
  "language_info": {
   "codemirror_mode": {
    "name": "ipython",
    "version": 3
   },
   "file_extension": ".py",
   "mimetype": "text/x-python",
   "name": "python",
   "nbconvert_exporter": "python",
   "pygments_lexer": "ipython3",
   "version": "3.7.4"
  }
 },
 "nbformat": 4,
 "nbformat_minor": 2
}
