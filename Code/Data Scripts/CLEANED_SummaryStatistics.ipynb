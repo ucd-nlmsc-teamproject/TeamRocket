{
 "cells": [
  {
   "cell_type": "markdown",
   "metadata": {},
   "source": [
    "### This is the CLEANED Summary Data of all the required Statistics!\n",
    "#### It contains the following values for 186 countries\n",
    "\n",
    "#### New Confirmed, Total Confirmed\n",
    "#### New Deaths, Total Deaths\n",
    "#### New Recovered, Total Recovered"
   ]
  },
  {
   "cell_type": "code",
   "execution_count": 1,
   "metadata": {},
   "outputs": [],
   "source": [
    "import pandas as pd\n",
    "import numpy as np\n",
    "import urllib.request\n",
    "import os\n",
    "import csv\n",
    "import requests\n",
    "import json"
   ]
  },
  {
   "cell_type": "code",
   "execution_count": 2,
   "metadata": {},
   "outputs": [],
   "source": [
    "def Save_file(df,name,I):\n",
    "    path =r\"C:\\Users\\apurv\\Data Science in Python\\Project\\Datascripts\\CSV Data\"\n",
    "    output_file = os.path.join(path,'%s.csv'%name)\n",
    "    if I == 1:\n",
    "        df.to_csv(output_file)\n",
    "    elif I == 0:\n",
    "        df.to_csv(output_file,index=False)"
   ]
  },
  {
   "cell_type": "code",
   "execution_count": 3,
   "metadata": {},
   "outputs": [],
   "source": [
    "def get_data(link):               #defining a function to get covid19 data\n",
    "    response = requests.get(link) #using the get method here\n",
    "    covid_data = response.json()  #extracting the data\n",
    "    df = pd.DataFrame(covid_data['Countries']) #creating a df from the data above and selecting the Key: Countries\n",
    "    df = df.reindex(sorted(df.columns), axis = 1) #re-arranging the columns for enhanced readability\n",
    "    df = df.drop(columns = ['Slug','Premium'])  #dropping the column SLUG\n",
    "    df['Date'] = pd.to_datetime(df['Date'])\n",
    "    df['Date'] = df['Date'].dt.date\n",
    "    return df\n",
    "    "
   ]
  },
  {
   "cell_type": "code",
   "execution_count": 4,
   "metadata": {},
   "outputs": [],
   "source": [
    "link = 'https://api.covid19api.com/summary'\n",
    "covid_summary_df = get_data(link)"
   ]
  },
  {
   "cell_type": "code",
   "execution_count": 5,
   "metadata": {},
   "outputs": [
    {
     "data": {
      "text/html": [
       "<div>\n",
       "<style scoped>\n",
       "    .dataframe tbody tr th:only-of-type {\n",
       "        vertical-align: middle;\n",
       "    }\n",
       "\n",
       "    .dataframe tbody tr th {\n",
       "        vertical-align: top;\n",
       "    }\n",
       "\n",
       "    .dataframe thead th {\n",
       "        text-align: right;\n",
       "    }\n",
       "</style>\n",
       "<table border=\"1\" class=\"dataframe\">\n",
       "  <thead>\n",
       "    <tr style=\"text-align: right;\">\n",
       "      <th></th>\n",
       "      <th>Country</th>\n",
       "      <th>CountryCode</th>\n",
       "      <th>Date</th>\n",
       "      <th>NewConfirmed</th>\n",
       "      <th>NewDeaths</th>\n",
       "      <th>NewRecovered</th>\n",
       "      <th>TotalConfirmed</th>\n",
       "      <th>TotalDeaths</th>\n",
       "      <th>TotalRecovered</th>\n",
       "    </tr>\n",
       "  </thead>\n",
       "  <tbody>\n",
       "    <tr>\n",
       "      <td>0</td>\n",
       "      <td>Afghanistan</td>\n",
       "      <td>AF</td>\n",
       "      <td>2020-08-09</td>\n",
       "      <td>39</td>\n",
       "      <td>5</td>\n",
       "      <td>57</td>\n",
       "      <td>37054</td>\n",
       "      <td>1312</td>\n",
       "      <td>25960</td>\n",
       "    </tr>\n",
       "    <tr>\n",
       "      <td>1</td>\n",
       "      <td>Albania</td>\n",
       "      <td>AL</td>\n",
       "      <td>2020-08-09</td>\n",
       "      <td>124</td>\n",
       "      <td>4</td>\n",
       "      <td>41</td>\n",
       "      <td>6275</td>\n",
       "      <td>193</td>\n",
       "      <td>3268</td>\n",
       "    </tr>\n",
       "    <tr>\n",
       "      <td>2</td>\n",
       "      <td>Algeria</td>\n",
       "      <td>DZ</td>\n",
       "      <td>2020-08-09</td>\n",
       "      <td>538</td>\n",
       "      <td>11</td>\n",
       "      <td>416</td>\n",
       "      <td>34693</td>\n",
       "      <td>1293</td>\n",
       "      <td>24083</td>\n",
       "    </tr>\n",
       "    <tr>\n",
       "      <td>3</td>\n",
       "      <td>Andorra</td>\n",
       "      <td>AD</td>\n",
       "      <td>2020-08-09</td>\n",
       "      <td>0</td>\n",
       "      <td>0</td>\n",
       "      <td>0</td>\n",
       "      <td>955</td>\n",
       "      <td>52</td>\n",
       "      <td>839</td>\n",
       "    </tr>\n",
       "    <tr>\n",
       "      <td>4</td>\n",
       "      <td>Angola</td>\n",
       "      <td>AO</td>\n",
       "      <td>2020-08-09</td>\n",
       "      <td>34</td>\n",
       "      <td>3</td>\n",
       "      <td>20</td>\n",
       "      <td>1572</td>\n",
       "      <td>70</td>\n",
       "      <td>564</td>\n",
       "    </tr>\n",
       "    <tr>\n",
       "      <td>...</td>\n",
       "      <td>...</td>\n",
       "      <td>...</td>\n",
       "      <td>...</td>\n",
       "      <td>...</td>\n",
       "      <td>...</td>\n",
       "      <td>...</td>\n",
       "      <td>...</td>\n",
       "      <td>...</td>\n",
       "      <td>...</td>\n",
       "    </tr>\n",
       "    <tr>\n",
       "      <td>181</td>\n",
       "      <td>Viet Nam</td>\n",
       "      <td>VN</td>\n",
       "      <td>2020-08-09</td>\n",
       "      <td>23</td>\n",
       "      <td>0</td>\n",
       "      <td>0</td>\n",
       "      <td>812</td>\n",
       "      <td>10</td>\n",
       "      <td>395</td>\n",
       "    </tr>\n",
       "    <tr>\n",
       "      <td>182</td>\n",
       "      <td>Western Sahara</td>\n",
       "      <td>EH</td>\n",
       "      <td>2020-08-09</td>\n",
       "      <td>0</td>\n",
       "      <td>0</td>\n",
       "      <td>0</td>\n",
       "      <td>10</td>\n",
       "      <td>1</td>\n",
       "      <td>8</td>\n",
       "    </tr>\n",
       "    <tr>\n",
       "      <td>183</td>\n",
       "      <td>Yemen</td>\n",
       "      <td>YE</td>\n",
       "      <td>2020-08-09</td>\n",
       "      <td>1</td>\n",
       "      <td>0</td>\n",
       "      <td>3</td>\n",
       "      <td>1797</td>\n",
       "      <td>512</td>\n",
       "      <td>910</td>\n",
       "    </tr>\n",
       "    <tr>\n",
       "      <td>184</td>\n",
       "      <td>Zambia</td>\n",
       "      <td>ZM</td>\n",
       "      <td>2020-08-09</td>\n",
       "      <td>417</td>\n",
       "      <td>3</td>\n",
       "      <td>167</td>\n",
       "      <td>7903</td>\n",
       "      <td>203</td>\n",
       "      <td>6431</td>\n",
       "    </tr>\n",
       "    <tr>\n",
       "      <td>185</td>\n",
       "      <td>Zimbabwe</td>\n",
       "      <td>ZW</td>\n",
       "      <td>2020-08-09</td>\n",
       "      <td>124</td>\n",
       "      <td>0</td>\n",
       "      <td>71</td>\n",
       "      <td>4575</td>\n",
       "      <td>102</td>\n",
       "      <td>1416</td>\n",
       "    </tr>\n",
       "  </tbody>\n",
       "</table>\n",
       "<p>186 rows × 9 columns</p>\n",
       "</div>"
      ],
      "text/plain": [
       "            Country CountryCode        Date  NewConfirmed  NewDeaths  \\\n",
       "0       Afghanistan          AF  2020-08-09            39          5   \n",
       "1           Albania          AL  2020-08-09           124          4   \n",
       "2           Algeria          DZ  2020-08-09           538         11   \n",
       "3           Andorra          AD  2020-08-09             0          0   \n",
       "4            Angola          AO  2020-08-09            34          3   \n",
       "..              ...         ...         ...           ...        ...   \n",
       "181        Viet Nam          VN  2020-08-09            23          0   \n",
       "182  Western Sahara          EH  2020-08-09             0          0   \n",
       "183           Yemen          YE  2020-08-09             1          0   \n",
       "184          Zambia          ZM  2020-08-09           417          3   \n",
       "185        Zimbabwe          ZW  2020-08-09           124          0   \n",
       "\n",
       "     NewRecovered  TotalConfirmed  TotalDeaths  TotalRecovered  \n",
       "0              57           37054         1312           25960  \n",
       "1              41            6275          193            3268  \n",
       "2             416           34693         1293           24083  \n",
       "3               0             955           52             839  \n",
       "4              20            1572           70             564  \n",
       "..            ...             ...          ...             ...  \n",
       "181             0             812           10             395  \n",
       "182             0              10            1               8  \n",
       "183             3            1797          512             910  \n",
       "184           167            7903          203            6431  \n",
       "185            71            4575          102            1416  \n",
       "\n",
       "[186 rows x 9 columns]"
      ]
     },
     "execution_count": 5,
     "metadata": {},
     "output_type": "execute_result"
    }
   ],
   "source": [
    "covid_summary_df"
   ]
  },
  {
   "cell_type": "code",
   "execution_count": 6,
   "metadata": {
    "scrolled": true
   },
   "outputs": [],
   "source": [
    "# covid_summary_df"
   ]
  },
  {
   "cell_type": "code",
   "execution_count": 7,
   "metadata": {},
   "outputs": [],
   "source": [
    "#covid_summary_df.info() #All the columns are clean without any missing values"
   ]
  },
  {
   "cell_type": "code",
   "execution_count": 8,
   "metadata": {},
   "outputs": [],
   "source": [
    "# #covid_summary_df.to_csv(r'C:\\Users\\apurv\\Data Science in Python\\8thJuly_CLEANED_covid_summary_dump.csv')\n",
    "# covid_summary_df.to_csv(r'C:\\Users\\apurv\\Data Science in Python\\Project\\AllDumps\\CLEANED_covid_summary_dump.csv')"
   ]
  },
  {
   "cell_type": "code",
   "execution_count": 9,
   "metadata": {},
   "outputs": [
    {
     "name": "stdout",
     "output_type": "stream",
     "text": [
      "Script Ran Successfully!\n"
     ]
    }
   ],
   "source": [
    "Save_file(covid_summary_df,\"Covid_World_Summary\",0)\n",
    "print(\"Script Ran Successfully!\")"
   ]
  },
  {
   "cell_type": "code",
   "execution_count": 10,
   "metadata": {},
   "outputs": [],
   "source": [
    "# covid_summary_df.info()"
   ]
  }
 ],
 "metadata": {
  "kernelspec": {
   "display_name": "Python 3",
   "language": "python",
   "name": "python3"
  },
  "language_info": {
   "codemirror_mode": {
    "name": "ipython",
    "version": 3
   },
   "file_extension": ".py",
   "mimetype": "text/x-python",
   "name": "python",
   "nbconvert_exporter": "python",
   "pygments_lexer": "ipython3",
   "version": "3.7.4"
  }
 },
 "nbformat": 4,
 "nbformat_minor": 2
}
