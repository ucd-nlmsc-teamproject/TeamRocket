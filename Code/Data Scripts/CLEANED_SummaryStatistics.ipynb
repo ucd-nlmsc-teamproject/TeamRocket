{
 "cells": [
  {
   "cell_type": "markdown",
   "metadata": {},
   "source": [
    "### This is the CLEANED Summary Data of all the required Statistics!\n",
    "#### It contains the following values for 186 countries\n",
    "\n",
    "#### New Confirmed, Total Confirmed\n",
    "#### New Deaths, Total Deaths\n",
    "#### New Recovered, Total Recovered"
   ]
  },
  {
   "cell_type": "code",
   "execution_count": 1,
   "metadata": {},
   "outputs": [],
   "source": [
    "import pandas as pd\n",
    "import numpy as np\n",
    "import urllib.request\n",
    "import os\n",
    "import csv\n",
    "import requests\n",
    "import json"
   ]
  },
  {
   "cell_type": "code",
   "execution_count": 2,
   "metadata": {},
   "outputs": [],
   "source": [
    "def Save_file(df,name,I):\n",
    "    path =r\"C:\\Users\\apurv\\Data Science in Python\\Project\\Datascripts\\CSV Data\"\n",
    "    output_file = os.path.join(path,'%s.csv'%name)\n",
    "    if I == 1:\n",
    "        df.to_csv(output_file)\n",
    "    elif I == 0:\n",
    "        df.to_csv(output_file,index=False)"
   ]
  },
  {
   "cell_type": "code",
   "execution_count": 3,
   "metadata": {},
   "outputs": [],
   "source": [
    "def get_data(link):               \n",
    "    response = requests.get(link) \n",
    "    covid_data = response.json()  \n",
    "    df = pd.DataFrame(covid_data['Countries']) \n",
    "    df = df.reindex(sorted(df.columns), axis = 1) \n",
    "    df = df.drop(columns = ['Slug','Premium'])  \n",
    "    df['Date'] = pd.to_datetime(df['Date'])\n",
    "    df['Date'] = df['Date'].dt.date\n",
    "    return df\n",
    "    "
   ]
  },
  {
   "cell_type": "code",
   "execution_count": 4,
   "metadata": {},
   "outputs": [],
   "source": [
    "link = 'https://api.covid19api.com/summary'\n",
    "covid_summary_df = get_data(link)"
   ]
  },
  {
   "cell_type": "code",
   "execution_count": 5,
   "metadata": {},
   "outputs": [
    {
     "name": "stdout",
     "output_type": "stream",
     "text": [
      "Script Ran Successfully!\n"
     ]
    }
   ],
   "source": [
    "Save_file(covid_summary_df,\"Covid_World_Summary\",0)\n",
    "print(\"Script Ran Successfully!\")"
   ]
  }
 ],
 "metadata": {
  "kernelspec": {
   "display_name": "Python 3",
   "language": "python",
   "name": "python3"
  },
  "language_info": {
   "codemirror_mode": {
    "name": "ipython",
    "version": 3
   },
   "file_extension": ".py",
   "mimetype": "text/x-python",
   "name": "python",
   "nbconvert_exporter": "python",
   "pygments_lexer": "ipython3",
   "version": "3.7.4"
  }
 },
 "nbformat": 4,
 "nbformat_minor": 2
}
