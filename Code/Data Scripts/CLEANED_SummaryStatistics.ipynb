{
 "cells": [
  {
   "cell_type": "markdown",
   "metadata": {},
   "source": [
    "### This is the CLEANED Summary Data of all the required Statistics!\n",
    "#### It contains the following values for 186 countries\n",
    "\n",
    "#### New Confirmed, Total Confirmed\n",
    "#### New Deaths, Total Deaths\n",
    "#### New Recovered, Total Recovered"
   ]
  },
  {
   "cell_type": "code",
   "execution_count": 45,
   "metadata": {},
   "outputs": [],
   "source": [
    "#Fetching data from covid-19 API by Johns Hopkinns\n",
    "\n",
    "import pandas as pd\n",
    "import numpy as np\n",
    "import urllib.request\n",
    "import os\n",
    "import csv\n",
    "import requests\n",
    "import json"
   ]
  },
  {
   "cell_type": "code",
   "execution_count": 47,
   "metadata": {},
   "outputs": [],
   "source": [
    "def get_data(link):               #defining a function to get covid19 data\n",
    "    response = requests.get(link) #using the get method here\n",
    "    covid_data = response.json()  #extracting the data\n",
    "    df = pd.DataFrame(covid_data['Countries']) #creating a df from the data above and selecting the Key: Countries\n",
    "    df = df.reindex(sorted(df.columns), axis = 1) #re-arranging the columns for enhanced readability\n",
    "    df = df.drop(columns = 'Slug')  #dropping the column SLUG\n",
    "    df['Date'] = pd.to_datetime(df['Date'])\n",
    "    df['Date'] = df['Date'].dt.date\n",
    "    return df\n",
    "    "
   ]
  },
  {
   "cell_type": "code",
   "execution_count": 48,
   "metadata": {},
   "outputs": [],
   "source": [
    "link = 'https://api.covid19api.com/summary'\n",
    "covid_summary_df = get_data(link)"
   ]
  },
  {
   "cell_type": "code",
   "execution_count": 49,
   "metadata": {},
   "outputs": [
    {
     "data": {
      "text/html": [
       "<div>\n",
       "<style scoped>\n",
       "    .dataframe tbody tr th:only-of-type {\n",
       "        vertical-align: middle;\n",
       "    }\n",
       "\n",
       "    .dataframe tbody tr th {\n",
       "        vertical-align: top;\n",
       "    }\n",
       "\n",
       "    .dataframe thead th {\n",
       "        text-align: right;\n",
       "    }\n",
       "</style>\n",
       "<table border=\"1\" class=\"dataframe\">\n",
       "  <thead>\n",
       "    <tr style=\"text-align: right;\">\n",
       "      <th></th>\n",
       "      <th>Country</th>\n",
       "      <th>CountryCode</th>\n",
       "      <th>Date</th>\n",
       "      <th>NewConfirmed</th>\n",
       "      <th>NewDeaths</th>\n",
       "      <th>NewRecovered</th>\n",
       "      <th>TotalConfirmed</th>\n",
       "      <th>TotalDeaths</th>\n",
       "      <th>TotalRecovered</th>\n",
       "    </tr>\n",
       "  </thead>\n",
       "  <tbody>\n",
       "    <tr>\n",
       "      <td>0</td>\n",
       "      <td>Afghanistan</td>\n",
       "      <td>AF</td>\n",
       "      <td>2020-06-17</td>\n",
       "      <td>783</td>\n",
       "      <td>13</td>\n",
       "      <td>344</td>\n",
       "      <td>26310</td>\n",
       "      <td>491</td>\n",
       "      <td>5508</td>\n",
       "    </tr>\n",
       "    <tr>\n",
       "      <td>1</td>\n",
       "      <td>Albania</td>\n",
       "      <td>AL</td>\n",
       "      <td>2020-06-17</td>\n",
       "      <td>82</td>\n",
       "      <td>1</td>\n",
       "      <td>9</td>\n",
       "      <td>1672</td>\n",
       "      <td>37</td>\n",
       "      <td>1064</td>\n",
       "    </tr>\n",
       "    <tr>\n",
       "      <td>2</td>\n",
       "      <td>Algeria</td>\n",
       "      <td>DZ</td>\n",
       "      <td>2020-06-17</td>\n",
       "      <td>116</td>\n",
       "      <td>11</td>\n",
       "      <td>107</td>\n",
       "      <td>11147</td>\n",
       "      <td>788</td>\n",
       "      <td>7842</td>\n",
       "    </tr>\n",
       "    <tr>\n",
       "      <td>3</td>\n",
       "      <td>Andorra</td>\n",
       "      <td>AD</td>\n",
       "      <td>2020-06-17</td>\n",
       "      <td>1</td>\n",
       "      <td>1</td>\n",
       "      <td>0</td>\n",
       "      <td>854</td>\n",
       "      <td>52</td>\n",
       "      <td>789</td>\n",
       "    </tr>\n",
       "    <tr>\n",
       "      <td>4</td>\n",
       "      <td>Angola</td>\n",
       "      <td>AO</td>\n",
       "      <td>2020-06-17</td>\n",
       "      <td>6</td>\n",
       "      <td>0</td>\n",
       "      <td>0</td>\n",
       "      <td>148</td>\n",
       "      <td>6</td>\n",
       "      <td>64</td>\n",
       "    </tr>\n",
       "  </tbody>\n",
       "</table>\n",
       "</div>"
      ],
      "text/plain": [
       "       Country CountryCode        Date  NewConfirmed  NewDeaths  NewRecovered  \\\n",
       "0  Afghanistan          AF  2020-06-17           783         13           344   \n",
       "1      Albania          AL  2020-06-17            82          1             9   \n",
       "2      Algeria          DZ  2020-06-17           116         11           107   \n",
       "3      Andorra          AD  2020-06-17             1          1             0   \n",
       "4       Angola          AO  2020-06-17             6          0             0   \n",
       "\n",
       "   TotalConfirmed  TotalDeaths  TotalRecovered  \n",
       "0           26310          491            5508  \n",
       "1            1672           37            1064  \n",
       "2           11147          788            7842  \n",
       "3             854           52             789  \n",
       "4             148            6              64  "
      ]
     },
     "execution_count": 49,
     "metadata": {},
     "output_type": "execute_result"
    }
   ],
   "source": [
    "covid_summary_df.head()"
   ]
  },
  {
   "cell_type": "code",
   "execution_count": 44,
   "metadata": {},
   "outputs": [
    {
     "name": "stdout",
     "output_type": "stream",
     "text": [
      "<class 'pandas.core.frame.DataFrame'>\n",
      "RangeIndex: 186 entries, 0 to 185\n",
      "Data columns (total 9 columns):\n",
      "Country           186 non-null object\n",
      "CountryCode       186 non-null object\n",
      "Date              186 non-null object\n",
      "NewConfirmed      186 non-null int64\n",
      "NewDeaths         186 non-null int64\n",
      "NewRecovered      186 non-null int64\n",
      "TotalConfirmed    186 non-null int64\n",
      "TotalDeaths       186 non-null int64\n",
      "TotalRecovered    186 non-null int64\n",
      "dtypes: int64(6), object(3)\n",
      "memory usage: 13.2+ KB\n"
     ]
    }
   ],
   "source": [
    "#covid_summary_df.info() #All the columns are clean without any missing values"
   ]
  },
  {
   "cell_type": "code",
   "execution_count": 51,
   "metadata": {},
   "outputs": [],
   "source": [
    "covid_summary_df.to_csv('CLEANED_covid_summary_dump.csv')"
   ]
  }
 ],
 "metadata": {
  "kernelspec": {
   "display_name": "Python 3",
   "language": "python",
   "name": "python3"
  },
  "language_info": {
   "codemirror_mode": {
    "name": "ipython",
    "version": 3
   },
   "file_extension": ".py",
   "mimetype": "text/x-python",
   "name": "python",
   "nbconvert_exporter": "python",
   "pygments_lexer": "ipython3",
   "version": "3.7.4"
  }
 },
 "nbformat": 4,
 "nbformat_minor": 2
}
