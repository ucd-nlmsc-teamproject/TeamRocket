{
 "cells": [
  {
   "cell_type": "markdown",
   "metadata": {},
   "source": [
    "# Final Semester Project - Covid-19 Chatbot"
   ]
  },
  {
   "cell_type": "markdown",
   "metadata": {},
   "source": [
    "## Data Collection from the API"
   ]
  },
  {
   "cell_type": "code",
   "execution_count": 1,
   "metadata": {},
   "outputs": [],
   "source": [
    "import numpy as np\n",
    "import pandas as pd\n",
    "import requests\n",
    "import datetime\n",
    "import calendar \n",
    "import warnings\n",
    "warnings.filterwarnings(\"ignore\")"
   ]
  },
  {
   "cell_type": "code",
   "execution_count": 2,
   "metadata": {},
   "outputs": [],
   "source": [
    "def Countries_Global_Summary(url):\n",
    "    response = requests.get(url)\n",
    "    data = response.json()\n",
    "    df = pd.DataFrame(data['Countries'])\n",
    "    df2 = pd.DataFrame(data['Global'],index=[0])\n",
    "    Countries = list(df[\"Slug\"])\n",
    "    Country = list(df['Country'])\n",
    "    Countries.sort()\n",
    "    return df, df2, Countries, Country"
   ]
  },
  {
   "cell_type": "code",
   "execution_count": 3,
   "metadata": {},
   "outputs": [],
   "source": [
    "Data_Countries, Data_Global, Countries, Country = Countries_Global_Summary(\"https://api.covid19api.com/summary\")"
   ]
  },
  {
   "cell_type": "code",
   "execution_count": 4,
   "metadata": {},
   "outputs": [],
   "source": [
    "def Data_collection(Countries):\n",
    "    Data = pd.DataFrame()\n",
    "    for i in range(len(Countries)):\n",
    "        A = Countries[i]\n",
    "        df = pd.read_json('https://api.covid19api.com/total/country/%s'%A)\n",
    "        Data = Data.append(df)\n",
    "    \n",
    "    return Data"
   ]
  },
  {
   "cell_type": "code",
   "execution_count": 5,
   "metadata": {},
   "outputs": [],
   "source": [
    "Data = Data_collection(Countries)"
   ]
  },
  {
   "cell_type": "code",
   "execution_count": 6,
   "metadata": {},
   "outputs": [],
   "source": [
    "Data.to_csv(\"Raw_Data.csv\",index=False)"
   ]
  },
  {
   "cell_type": "code",
   "execution_count": 7,
   "metadata": {},
   "outputs": [],
   "source": [
    "Data_read = pd.read_csv(\"Raw_Data.csv\")"
   ]
  },
  {
   "cell_type": "code",
   "execution_count": 8,
   "metadata": {},
   "outputs": [],
   "source": [
    "def Clean_data(df):\n",
    "    \n",
    "    df= df.drop(['City', 'CityCode', 'CountryCode','Lat','Lon','Province'],axis=1)\n",
    "    \n",
    "    for i in range(1, len(df)):\n",
    "        if df.loc[i, 'Confirmed'] == 0 and (df.loc[i, 'Country'] == df.loc[i-1,'Country']):\n",
    "            df.loc[i, 'Confirmed'] = df.loc[i-1, 'Confirmed']\n",
    "        if df.loc[i, 'Deaths'] == 0  and (df.loc[i, 'Country'] == df.loc[i-1,'Country']):\n",
    "            df.loc[i, 'Deaths'] = df.loc[i-1, 'Deaths']\n",
    "        if df.loc[i, 'Recovered'] == 0  and (df.loc[i, 'Country'] == df.loc[i-1,'Country']):\n",
    "            df.loc[i, 'Recovered'] = df.loc[i-1, 'Recovered']\n",
    "\n",
    "# Addressing the data descrepencies in active cases column\n",
    "\n",
    "    for i in range(0, len(df)):\n",
    "        if df.loc[i,'Active'] != df.loc[i, 'Confirmed'] - df.loc[i, 'Deaths'] - df.loc[i, 'Recovered']:\n",
    "            df.loc[i,'Active'] = df.loc[i, 'Confirmed'] - df.loc[i, 'Deaths'] - df.loc[i, 'Recovered']\n",
    "    return df"
   ]
  },
  {
   "cell_type": "code",
   "execution_count": 9,
   "metadata": {},
   "outputs": [],
   "source": [
    "Data_1 = Clean_data(Data_read)"
   ]
  },
  {
   "cell_type": "code",
   "execution_count": 10,
   "metadata": {},
   "outputs": [],
   "source": [
    "Data_1.to_csv(\"Cleaned_Raw_data.csv\",index=False)"
   ]
  },
  {
   "cell_type": "code",
   "execution_count": 11,
   "metadata": {},
   "outputs": [],
   "source": [
    "def Time_Series_Data(df):\n",
    "    Dates_list =(df['Date'].unique())#To get the list of all unique Dates\n",
    "    #Creating three new dataframes which will have the rows and different states and columns as all the unique date\n",
    "    Confirmed_Data = pd.DataFrame(index=Country,columns=(Dates_list))#Used the country as index in each of the dataframe and columns as Dates\n",
    "    Recovered_Data = pd.DataFrame(index=Country,columns=(Dates_list))\n",
    "    Deaths_Data = pd.DataFrame(index=Country,columns=(Dates_list))\n",
    "    Active_Data = pd.DataFrame(index=Country,columns=(Dates_list))\n",
    "    \n",
    "    #In this section i have mapped and converted the data into the format defined in the abobve dataframe.\n",
    "    X = Confirmed_Data.shape[1] #saving the column lenght\n",
    "    Y = Confirmed_Data.shape[0] #saving the row lenght\n",
    "    for i in range(Y):\n",
    "        df_2 = df.loc[df.Country == Country[i]]\n",
    "        df_2 = df_2.groupby(['Date']).sum()\n",
    "        df_2T = df_2.T\n",
    "        R = df_2T.shape[1]\n",
    "        for j in range(R):\n",
    "            Ao = df_2T.columns[j]\n",
    "            for k in range(X):\n",
    "                Ai = (Confirmed_Data.columns[k])\n",
    "                if (Ai == Ao):\n",
    "                    A = df_2T.loc[\"Confirmed\"][Ai]\n",
    "                    Confirmed_Data[Ai][Country[i]] = A\n",
    "                    B = df_2T.loc[\"Recovered\"][Ai]\n",
    "                    Recovered_Data[Ai][Country[i]] = B\n",
    "                    C = df_2T.loc[\"Deaths\"][Ai]\n",
    "                    Deaths_Data[Ai][Country[i]] = C\n",
    "                    D = df_2T.loc[\"Active\"][Ai]\n",
    "                    Active_Data[Ai][Country[i]] = D\n",
    "                else:\n",
    "                    continue\n",
    "    \n",
    "    return Confirmed_Data,Recovered_Data,Deaths_Data,Active_Data"
   ]
  },
  {
   "cell_type": "code",
   "execution_count": 12,
   "metadata": {},
   "outputs": [],
   "source": [
    "Confirmed_Data,Recovered_Data,Deaths_Data,Active_Data = Time_Series_Data(Data_1)"
   ]
  },
  {
   "cell_type": "code",
   "execution_count": 13,
   "metadata": {},
   "outputs": [],
   "source": [
    "Confirmed_Data.to_csv(\"Confirmed_Data.csv\")#Saved the csv to inspect the data\n",
    "\n",
    "Recovered_Data.to_csv(\"Recovered_Data.csv\")#Saved the csv to inspect the data\n",
    "\n",
    "Deaths_Data.to_csv(\"Deaths_Data.csv\")#Saved the csv to inspect the data\n",
    "\n",
    "Active_Data.to_csv(\"Active_Data.csv\")#Saved the csv to inspect the data"
   ]
  },
  {
   "cell_type": "code",
   "execution_count": 14,
   "metadata": {},
   "outputs": [],
   "source": [
    "def Integrated_data(df,df1,df2,df3,df4):\n",
    "    Dates_list = ((df['Date'].unique()))\n",
    "    Data_final = pd.DataFrame(columns=(Dates_list))\n",
    "    Data_final.insert(0,'Country',0)\n",
    "    for i in range(len(Country)):\n",
    "        Confirmed= list(df1.loc[Country[i]])\n",
    "        Confirmed = [Country[i]] + Confirmed\n",
    "        Recovered= list(df2.loc[Country[i]])\n",
    "        Recovered = [Country[i]] + Recovered\n",
    "        Deaths= list(df3.loc[Country[i]])\n",
    "        Deaths = [Country[i]] + Deaths\n",
    "        Active= list(df4.loc[Country[i]])\n",
    "        Active = [Country[i]] + Active\n",
    "        Data = pd.DataFrame(columns=(Dates_list))\n",
    "        Data.insert(0,'Country',0)\n",
    "        Data_T = Data.T\n",
    "        Data_T['Confirmed'] = Confirmed\n",
    "        Data_T['Recovered'] = Recovered\n",
    "        Data_T['Deaths'] = Deaths\n",
    "        Data_T['Active'] = Active\n",
    "        Data_T2 = Data_T.T\n",
    "        Data_T2['Country'] = Country[i]\n",
    "        Data_final = Data_final.append(Data_T2)\n",
    "    return Data_final"
   ]
  },
  {
   "cell_type": "code",
   "execution_count": 15,
   "metadata": {},
   "outputs": [],
   "source": [
    "Final_Data = Integrated_data(Data_1,Confirmed_Data,Recovered_Data,Deaths_Data,Active_Data)"
   ]
  },
  {
   "cell_type": "code",
   "execution_count": 16,
   "metadata": {
    "scrolled": false
   },
   "outputs": [],
   "source": [
    "# Final_Data"
   ]
  },
  {
   "cell_type": "code",
   "execution_count": 17,
   "metadata": {},
   "outputs": [],
   "source": [
    "Final_Data.to_csv(\"Final_Data_Combined.csv\")#Saved the csv to inspect the data"
   ]
  },
  {
   "cell_type": "code",
   "execution_count": 18,
   "metadata": {},
   "outputs": [],
   "source": [
    "Data_2 = Clean_data(Data_read)"
   ]
  },
  {
   "cell_type": "code",
   "execution_count": 19,
   "metadata": {},
   "outputs": [],
   "source": [
    "def Date_processing(df):\n",
    "    df_list = list(df['Date'])\n",
    "    B=[]\n",
    "    P=[]\n",
    "    O=[]\n",
    "    K=[]\n",
    "    for i in range(len(df_list)):\n",
    "        A = df_list[i]\n",
    "        datee = datetime.datetime.strptime(A, \"%Y-%m-%d\")\n",
    "        B.append(datee.month)\n",
    "        T = datetime.datetime.strptime(A, \"%Y-%m-%d\").weekday() \n",
    "        P.append(T)\n",
    "        Y = (calendar.day_name[T]) \n",
    "        O.append(Y)\n",
    "        U = datetime.datetime.strptime(A, \"%Y-%m-%d\").isocalendar()[1]\n",
    "        K.append(U)\n",
    "    df['Month'] = B\n",
    "    df['Day_number'] = P\n",
    "    df['Day'] = O\n",
    "    df['Week'] = K\n",
    "    C = df['Month']\n",
    "    D=[]\n",
    "    for i in range(len(C)):\n",
    "        if C[i] == 1:\n",
    "            D.append(\"January\")\n",
    "        elif C[i] == 2:\n",
    "            D.append(\"February\")\n",
    "        elif C[i] == 3:\n",
    "            D.append(\"March\")\n",
    "        elif C[i] == 4:\n",
    "            D.append(\"April\")\n",
    "        elif C[i] == 5:\n",
    "            D.append(\"May\")\n",
    "        elif C[i] == 6:\n",
    "            D.append(\"June\")\n",
    "        elif C[i] == 7:\n",
    "            D.append(\"July\")\n",
    "        elif C[i] == 8:\n",
    "            D.append(\"August\")\n",
    "        elif C[i] == 9:\n",
    "            D.append(\"Spetember\")\n",
    "        elif C[i] == 10:\n",
    "            D.append(\"October\")\n",
    "        elif C[i] == 11:\n",
    "            D.append(\"November\")\n",
    "        elif C[i] == 12:\n",
    "            D.append(\"December\")\n",
    "    \n",
    "    df['Month_name'] = D\n",
    "    \n",
    "    return df"
   ]
  },
  {
   "cell_type": "code",
   "execution_count": 20,
   "metadata": {},
   "outputs": [],
   "source": [
    "Data_date_2 = Date_processing(Data_2)"
   ]
  },
  {
   "cell_type": "code",
   "execution_count": 21,
   "metadata": {},
   "outputs": [],
   "source": [
    "# Data_date_2"
   ]
  },
  {
   "cell_type": "code",
   "execution_count": 22,
   "metadata": {},
   "outputs": [],
   "source": [
    "Data_date_2.to_csv(\"Data_with_new_columns.csv\",index=False)#Saved the csv to inspect the data"
   ]
  },
  {
   "cell_type": "code",
   "execution_count": 23,
   "metadata": {},
   "outputs": [],
   "source": [
    "def World_Dataset(df,df1,df2,df3,df4):\n",
    "    Dates_l =(df['Date'].unique())\n",
    "    I = ['Confirmed','Deaths','Active','Recovered']\n",
    "    W_D = pd.DataFrame(index=I,columns=(Dates_l))\n",
    "    V = W_D.shape[1]\n",
    "    for i in range(V):\n",
    "        Ao=Dates_l[i]\n",
    "        tot_1  = list(df1[Ao])\n",
    "        total_1 = sum(tot_1)\n",
    "        W_D.loc['Confirmed'][Ao] = total_1\n",
    "        tot_2  = list(df2[Dates_l[i]])\n",
    "        total_2 = sum(tot_2)\n",
    "        W_D.loc['Deaths'][Ao] = total_2\n",
    "        tot_3  = list(df3[Dates_l[i]])\n",
    "        total_3 = sum(tot_3)\n",
    "        W_D.loc['Active'][Ao] = total_3\n",
    "        tot_4  = list(df4[Dates_l[i]])\n",
    "        total_4 = sum(tot_4)\n",
    "        W_D.loc['Recovered'][Ao] = total_4\n",
    "    \n",
    "    return W_D\n",
    "        "
   ]
  },
  {
   "cell_type": "code",
   "execution_count": 24,
   "metadata": {},
   "outputs": [],
   "source": [
    "World_Data = World_Dataset(Data_1,Confirmed_Data,Deaths_Data,Active_Data,Recovered_Data)"
   ]
  },
  {
   "cell_type": "code",
   "execution_count": 25,
   "metadata": {},
   "outputs": [],
   "source": [
    "World_Data_Summary = World_Data.T"
   ]
  },
  {
   "cell_type": "code",
   "execution_count": 26,
   "metadata": {},
   "outputs": [],
   "source": [
    "World_Data_Summary['Dates'] = World_Data_Summary.index"
   ]
  },
  {
   "cell_type": "code",
   "execution_count": 27,
   "metadata": {},
   "outputs": [],
   "source": [
    "World_Data_Summary.to_csv(\"World_Data_Summary.csv\",index=False)#Saved the csv to inspect the data"
   ]
  },
  {
   "cell_type": "code",
   "execution_count": 30,
   "metadata": {},
   "outputs": [],
   "source": [
    "Data_Sum_country = pd.read_csv('CLEANED_covid_summary_dump.csv')"
   ]
  },
  {
   "cell_type": "code",
   "execution_count": 28,
   "metadata": {},
   "outputs": [],
   "source": [
    "def top_five_Confirmed_cases(df):\n",
    "    Final_df = df.sort_values(by=['TotalConfirmed'], ascending=False)\n",
    "    Final_df = Final_df.drop(['NewConfirmed','NewDeaths', 'NewRecovered','TotalDeaths','TotalRecovered'],axis=1)\n",
    "    Top_confirmed_con_details = Final_df.head()\n",
    "    return Top_confirmed_con_details"
   ]
  },
  {
   "cell_type": "code",
   "execution_count": 31,
   "metadata": {},
   "outputs": [],
   "source": [
    "Top_confirmed_country_details = top_five_Confirmed_cases(Data_Sum_country)"
   ]
  },
  {
   "cell_type": "code",
   "execution_count": 32,
   "metadata": {},
   "outputs": [],
   "source": [
    "Top_confirmed_country_details.to_csv(\"Top_confirmed_country_details.csv\",index=False)#Saved the csv to inspect the data"
   ]
  },
  {
   "cell_type": "code",
   "execution_count": 33,
   "metadata": {},
   "outputs": [],
   "source": [
    "def top_five_Recovered_cases(df):\n",
    "    Final_df1 = df.sort_values(by=['TotalRecovered'], ascending=False)\n",
    "    Final_df1 = Final_df1.drop(['NewConfirmed','NewDeaths', 'NewRecovered','TotalDeaths','TotalConfirmed'],axis=1)\n",
    "    Top_recovered_con_details = Final_df1.head()\n",
    "    return Top_recovered_con_details"
   ]
  },
  {
   "cell_type": "code",
   "execution_count": 34,
   "metadata": {},
   "outputs": [],
   "source": [
    "Top_recovered_country_details = top_five_Recovered_cases(Data_Sum_country)"
   ]
  },
  {
   "cell_type": "code",
   "execution_count": 35,
   "metadata": {},
   "outputs": [
    {
     "data": {
      "text/html": [
       "<div>\n",
       "<style scoped>\n",
       "    .dataframe tbody tr th:only-of-type {\n",
       "        vertical-align: middle;\n",
       "    }\n",
       "\n",
       "    .dataframe tbody tr th {\n",
       "        vertical-align: top;\n",
       "    }\n",
       "\n",
       "    .dataframe thead th {\n",
       "        text-align: right;\n",
       "    }\n",
       "</style>\n",
       "<table border=\"1\" class=\"dataframe\">\n",
       "  <thead>\n",
       "    <tr style=\"text-align: right;\">\n",
       "      <th></th>\n",
       "      <th>Country</th>\n",
       "      <th>CountryCode</th>\n",
       "      <th>Date</th>\n",
       "      <th>TotalRecovered</th>\n",
       "    </tr>\n",
       "  </thead>\n",
       "  <tbody>\n",
       "    <tr>\n",
       "      <th>30</th>\n",
       "      <td>Brazil</td>\n",
       "      <td>BR</td>\n",
       "      <td>2020-06-29</td>\n",
       "      <td>746018</td>\n",
       "    </tr>\n",
       "    <tr>\n",
       "      <th>236</th>\n",
       "      <td>United States of America</td>\n",
       "      <td>US</td>\n",
       "      <td>2020-06-29</td>\n",
       "      <td>685164</td>\n",
       "    </tr>\n",
       "    <tr>\n",
       "      <th>182</th>\n",
       "      <td>Russian Federation</td>\n",
       "      <td>RU</td>\n",
       "      <td>2020-06-29</td>\n",
       "      <td>398436</td>\n",
       "    </tr>\n",
       "    <tr>\n",
       "      <th>101</th>\n",
       "      <td>India</td>\n",
       "      <td>IN</td>\n",
       "      <td>2020-06-29</td>\n",
       "      <td>321723</td>\n",
       "    </tr>\n",
       "    <tr>\n",
       "      <th>44</th>\n",
       "      <td>Chile</td>\n",
       "      <td>CL</td>\n",
       "      <td>2020-06-29</td>\n",
       "      <td>232210</td>\n",
       "    </tr>\n",
       "  </tbody>\n",
       "</table>\n",
       "</div>"
      ],
      "text/plain": [
       "                      Country CountryCode        Date  TotalRecovered\n",
       "30                     Brazil          BR  2020-06-29          746018\n",
       "236  United States of America          US  2020-06-29          685164\n",
       "182        Russian Federation          RU  2020-06-29          398436\n",
       "101                     India          IN  2020-06-29          321723\n",
       "44                      Chile          CL  2020-06-29          232210"
      ]
     },
     "execution_count": 35,
     "metadata": {},
     "output_type": "execute_result"
    }
   ],
   "source": [
    "Top_recovered_country_details"
   ]
  },
  {
   "cell_type": "code",
   "execution_count": 36,
   "metadata": {},
   "outputs": [],
   "source": [
    "Top_recovered_country_details.to_csv(\"Top_recovered_country_details.csv\",index=False)#Saved the csv to inspect the data"
   ]
  },
  {
   "cell_type": "code",
   "execution_count": 37,
   "metadata": {},
   "outputs": [],
   "source": [
    "def top_five_Deaths_cases(df):\n",
    "    Final_df2 = df.sort_values(by=['TotalDeaths'], ascending=False)\n",
    "    Final_df2 = Final_df2.drop(['NewConfirmed','NewDeaths', 'NewRecovered','TotalConfirmed','TotalRecovered'],axis=1)\n",
    "    Top_deaths_con_details = Final_df2.head()\n",
    "    return Top_deaths_con_details"
   ]
  },
  {
   "cell_type": "code",
   "execution_count": 38,
   "metadata": {},
   "outputs": [],
   "source": [
    "Top_deaths_country_details = top_five_Deaths_cases(Data_Sum_country)"
   ]
  },
  {
   "cell_type": "code",
   "execution_count": 39,
   "metadata": {},
   "outputs": [
    {
     "data": {
      "text/html": [
       "<div>\n",
       "<style scoped>\n",
       "    .dataframe tbody tr th:only-of-type {\n",
       "        vertical-align: middle;\n",
       "    }\n",
       "\n",
       "    .dataframe tbody tr th {\n",
       "        vertical-align: top;\n",
       "    }\n",
       "\n",
       "    .dataframe thead th {\n",
       "        text-align: right;\n",
       "    }\n",
       "</style>\n",
       "<table border=\"1\" class=\"dataframe\">\n",
       "  <thead>\n",
       "    <tr style=\"text-align: right;\">\n",
       "      <th></th>\n",
       "      <th>Country</th>\n",
       "      <th>CountryCode</th>\n",
       "      <th>Date</th>\n",
       "      <th>TotalDeaths</th>\n",
       "    </tr>\n",
       "  </thead>\n",
       "  <tbody>\n",
       "    <tr>\n",
       "      <th>236</th>\n",
       "      <td>United States of America</td>\n",
       "      <td>US</td>\n",
       "      <td>2020-06-29</td>\n",
       "      <td>125803</td>\n",
       "    </tr>\n",
       "    <tr>\n",
       "      <th>30</th>\n",
       "      <td>Brazil</td>\n",
       "      <td>BR</td>\n",
       "      <td>2020-06-29</td>\n",
       "      <td>57622</td>\n",
       "    </tr>\n",
       "    <tr>\n",
       "      <th>235</th>\n",
       "      <td>United Kingdom</td>\n",
       "      <td>GB</td>\n",
       "      <td>2020-06-29</td>\n",
       "      <td>43634</td>\n",
       "    </tr>\n",
       "    <tr>\n",
       "      <th>108</th>\n",
       "      <td>Italy</td>\n",
       "      <td>IT</td>\n",
       "      <td>2020-06-29</td>\n",
       "      <td>34738</td>\n",
       "    </tr>\n",
       "    <tr>\n",
       "      <th>74</th>\n",
       "      <td>France</td>\n",
       "      <td>FR</td>\n",
       "      <td>2020-06-29</td>\n",
       "      <td>29781</td>\n",
       "    </tr>\n",
       "  </tbody>\n",
       "</table>\n",
       "</div>"
      ],
      "text/plain": [
       "                      Country CountryCode        Date  TotalDeaths\n",
       "236  United States of America          US  2020-06-29       125803\n",
       "30                     Brazil          BR  2020-06-29        57622\n",
       "235            United Kingdom          GB  2020-06-29        43634\n",
       "108                     Italy          IT  2020-06-29        34738\n",
       "74                     France          FR  2020-06-29        29781"
      ]
     },
     "execution_count": 39,
     "metadata": {},
     "output_type": "execute_result"
    }
   ],
   "source": [
    "Top_deaths_country_details"
   ]
  },
  {
   "cell_type": "code",
   "execution_count": 40,
   "metadata": {},
   "outputs": [],
   "source": [
    "Top_deaths_country_details.to_csv(\"Top_deaths_country_details.csv\",index=False)#Saved the csv to inspect the data"
   ]
  }
 ],
 "metadata": {
  "kernelspec": {
   "display_name": "Python 3",
   "language": "python",
   "name": "python3"
  },
  "language_info": {
   "codemirror_mode": {
    "name": "ipython",
    "version": 3
   },
   "file_extension": ".py",
   "mimetype": "text/x-python",
   "name": "python",
   "nbconvert_exporter": "python",
   "pygments_lexer": "ipython3",
   "version": "3.7.1"
  }
 },
 "nbformat": 4,
 "nbformat_minor": 2
}
