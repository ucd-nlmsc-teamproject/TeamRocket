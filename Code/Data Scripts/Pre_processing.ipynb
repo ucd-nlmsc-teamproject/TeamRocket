{
 "cells": [
  {
   "cell_type": "markdown",
   "metadata": {},
   "source": [
    "# Final Semester Project - Covid-19 Chatbot"
   ]
  },
  {
   "cell_type": "markdown",
   "metadata": {},
   "source": [
    "## Data Collection from the API"
   ]
  },
  {
   "cell_type": "code",
   "execution_count": 1,
   "metadata": {},
   "outputs": [],
   "source": [
    "import numpy as np\n",
    "import pandas as pd\n",
    "import requests\n",
    "import datetime\n",
    "from datetime import datetime\n",
    "import calendar \n",
    "import warnings\n",
    "import os\n",
    "from http import HTTPStatus\n",
    "import time\n",
    "warnings.filterwarnings(\"ignore\")"
   ]
  },
  {
   "cell_type": "code",
   "execution_count": 2,
   "metadata": {},
   "outputs": [],
   "source": [
    "def Save_file(df,name,I):\n",
    "    path =r\"C:\\Users\\visha\\Final Semester Project\\CSV Data\"\n",
    "    output_file = os.path.join(path,'%s.csv'%name)\n",
    "    if I == 1:\n",
    "        df.to_csv(output_file)\n",
    "    elif I == 0:\n",
    "        df.to_csv(output_file,index=False)\n",
    "    elif I == 2:\n",
    "        df.to_csv(output_file,sep='|')"
   ]
  },
  {
   "cell_type": "code",
   "execution_count": 3,
   "metadata": {},
   "outputs": [],
   "source": [
    "def Countries_Global_Summary(url):\n",
    "    response = requests.get(url)\n",
    "    data = response.json()\n",
    "    df = pd.DataFrame(data['Countries'])\n",
    "    df2 = pd.DataFrame(data['Global'],index=[0])\n",
    "    Countries = list(df[\"Slug\"])\n",
    "    Country = list(df['Country'])\n",
    "    Countries.sort()\n",
    "    return df, df2, Countries, Country"
   ]
  },
  {
   "cell_type": "code",
   "execution_count": 4,
   "metadata": {},
   "outputs": [],
   "source": [
    "Data_Countries, Data_Global, Countries, Country = Countries_Global_Summary(\"https://api.covid19api.com/summary\")"
   ]
  },
  {
   "cell_type": "code",
   "execution_count": 5,
   "metadata": {},
   "outputs": [],
   "source": [
    "def Data_collection(Countries):\n",
    "    Data = pd.DataFrame()\n",
    "    for i in range(len(Countries)):\n",
    "        A = Countries[i]\n",
    "        df = pd.read_json('https://api.covid19api.com/total/country/%s'%A)\n",
    "        Data = Data.append(df)\n",
    "        time.sleep(1)\n",
    "    \n",
    "    return Data"
   ]
  },
  {
   "cell_type": "code",
   "execution_count": 6,
   "metadata": {},
   "outputs": [],
   "source": [
    "Data = Data_collection(Countries)"
   ]
  },
  {
   "cell_type": "code",
   "execution_count": 7,
   "metadata": {},
   "outputs": [],
   "source": [
    "Save_file(Data,\"Raw_data\",0)"
   ]
  },
  {
   "cell_type": "code",
   "execution_count": 8,
   "metadata": {},
   "outputs": [],
   "source": [
    "Data_read = pd.read_csv('C:/Users/visha/Final Semester Project/CSV Data/Raw_Data.csv')"
   ]
  },
  {
   "cell_type": "code",
   "execution_count": 9,
   "metadata": {},
   "outputs": [],
   "source": [
    "Data_raw_2 = pd.read_csv('C:/Users/visha/Final Semester Project/CSV Data/Country_wise_data_timeseries.csv')"
   ]
  },
  {
   "cell_type": "code",
   "execution_count": 10,
   "metadata": {},
   "outputs": [],
   "source": [
    "def Clean_data(df,df2):\n",
    "    df = df.reset_index()\n",
    "    df2 = df2.reset_index()\n",
    "    df= df.drop(['City', 'CityCode', 'CountryCode','Lat','Lon','Province'],axis=1)\n",
    "    df['Date'] = pd.to_datetime(df['Date']).dt.strftime('%Y-%m-%d')\n",
    "    df2['Date'] = pd.to_datetime(df2['Date']).dt.strftime('%Y-%m-%d')\n",
    "    \n",
    "    for i in range(0, len(df)):\n",
    "        if (df.loc[i,'Active'] == 0 ) & (df.loc[i, 'Confirmed'] < df.loc[i, 'Deaths'] + df.loc[i, 'Recovered']):\n",
    "            C = df.loc[i,'Country'] \n",
    "            D = df.loc[i,'Date']\n",
    "            I = df2[(df2['Date'] == D) & (df2['Country'] == C)].index[0]\n",
    "            R = df2.loc[I,'Recovered']\n",
    "            I2 = df[(df['Date'] == D) & (df['Country'] == C)].index[0]\n",
    "            df.loc[I2,'Recovered'] = R\n",
    "\n",
    "    for i in range(1, len(df)):\n",
    "        if (df.loc[i, 'Confirmed'] == 0) and (df.loc[i, 'Country'] == df.loc[i-1,'Country']):\n",
    "            df.loc[i, 'Confirmed'] = df.loc[i-1, 'Confirmed']\n",
    "        if (df.loc[i, 'Deaths'] == 0) and (df.loc[i, 'Country'] == df.loc[i-1,'Country']):\n",
    "            df.loc[i, 'Deaths'] = df.loc[i-1, 'Deaths']\n",
    "        if (df.loc[i, 'Recovered'] == 0)  and (df.loc[i, 'Country'] == df.loc[i-1,'Country']):\n",
    "            df.loc[i, 'Recovered'] = df.loc[i-1, 'Recovered']\n",
    "\n",
    "# Addressing the data descrepencies in active cases column\n",
    "\n",
    "    for i in range(0, len(df)):\n",
    "        if df.loc[i,'Active'] != df.loc[i, 'Confirmed'] - df.loc[i, 'Deaths'] - df.loc[i, 'Recovered']:\n",
    "            df.loc[i,'Active'] = df.loc[i, 'Confirmed'] - df.loc[i, 'Deaths'] - df.loc[i, 'Recovered']\n",
    "    df= df.drop(['index'],axis=1)\n",
    "    return df"
   ]
  },
  {
   "cell_type": "code",
   "execution_count": 11,
   "metadata": {},
   "outputs": [],
   "source": [
    "Data_1 = Clean_data(Data_read,Data_raw_2)"
   ]
  },
  {
   "cell_type": "code",
   "execution_count": 12,
   "metadata": {},
   "outputs": [],
   "source": [
    "Save_file(Data_1,\"Cleaned_Raw_data\",0)"
   ]
  },
  {
   "cell_type": "code",
   "execution_count": 13,
   "metadata": {},
   "outputs": [],
   "source": [
    "def Time_Series_Data(df):\n",
    "    Dates_list =(df['Date'].unique())#To get the list of all unique Dates\n",
    "    #Creating three new dataframes which will have the rows and different states and columns as all the unique date\n",
    "    Confirmed_Data = pd.DataFrame(index=Country,columns=(Dates_list))#Used the country as index in each of the dataframe and columns as Dates\n",
    "    Recovered_Data = pd.DataFrame(index=Country,columns=(Dates_list))\n",
    "    Deaths_Data = pd.DataFrame(index=Country,columns=(Dates_list))\n",
    "    Active_Data = pd.DataFrame(index=Country,columns=(Dates_list))\n",
    "    \n",
    "    #In this section i have mapped and converted the data into the format defined in the abobve dataframe.\n",
    "    X = Confirmed_Data.shape[1] #saving the column lenght\n",
    "    Y = Confirmed_Data.shape[0] #saving the row lenght\n",
    "    for i in range(Y):\n",
    "        df_2 = df.loc[df.Country == Country[i]]\n",
    "        df_2 = df_2.groupby(['Date']).sum()\n",
    "        df_2T = df_2.T\n",
    "        R = df_2T.shape[1]\n",
    "        for j in range(R):\n",
    "            Ao = df_2T.columns[j]\n",
    "            for k in range(X):\n",
    "                Ai = (Confirmed_Data.columns[k])\n",
    "                if (Ai == Ao):\n",
    "                    A = df_2T.loc[\"Confirmed\"][Ai]\n",
    "                    Confirmed_Data[Ai][Country[i]] = A\n",
    "                    B = df_2T.loc[\"Recovered\"][Ai]\n",
    "                    Recovered_Data[Ai][Country[i]] = B\n",
    "                    C = df_2T.loc[\"Deaths\"][Ai]\n",
    "                    Deaths_Data[Ai][Country[i]] = C\n",
    "                    D = df_2T.loc[\"Active\"][Ai]\n",
    "                    Active_Data[Ai][Country[i]] = D\n",
    "                else:\n",
    "                    continue\n",
    "    \n",
    "    return Confirmed_Data,Recovered_Data,Deaths_Data,Active_Data"
   ]
  },
  {
   "cell_type": "code",
   "execution_count": 14,
   "metadata": {},
   "outputs": [],
   "source": [
    "Confirmed_Data,Recovered_Data,Deaths_Data,Active_Data = Time_Series_Data(Data_1)"
   ]
  },
  {
   "cell_type": "code",
   "execution_count": 15,
   "metadata": {},
   "outputs": [],
   "source": [
    "Save_file(Confirmed_Data,\"Confirmed_Data\",1)\n",
    "Save_file(Recovered_Data,\"Recovered_Data\",1)\n",
    "Save_file(Deaths_Data,\"Deaths_Data\",1)\n",
    "Save_file(Active_Data,\"Active_Data\",1)"
   ]
  },
  {
   "cell_type": "code",
   "execution_count": 16,
   "metadata": {},
   "outputs": [],
   "source": [
    "def transpose(df):\n",
    "    df = df.T\n",
    "    df.index.name = 'Date'\n",
    "    return df"
   ]
  },
  {
   "cell_type": "code",
   "execution_count": 17,
   "metadata": {},
   "outputs": [],
   "source": [
    "Confirmed_Data_T = transpose(Confirmed_Data)\n",
    "Recovered_Data_T = transpose(Recovered_Data)\n",
    "Deaths_Data_T = transpose(Deaths_Data)\n",
    "Active_Data_T = transpose(Active_Data)"
   ]
  },
  {
   "cell_type": "code",
   "execution_count": 18,
   "metadata": {},
   "outputs": [],
   "source": [
    "Save_file(Confirmed_Data_T,\"Confirmed_Data_T\",2)\n",
    "Save_file(Recovered_Data_T,\"Recovered_Data_T\",2)\n",
    "Save_file(Deaths_Data_T,\"Deaths_Data_T\",2)\n",
    "Save_file(Active_Data_T,\"Active_Data_T\",2)"
   ]
  },
  {
   "cell_type": "code",
   "execution_count": 19,
   "metadata": {},
   "outputs": [],
   "source": [
    "def Integrated_data(df,df1,df2,df3,df4):\n",
    "    Dates_list = ((df['Date'].unique()))\n",
    "    Data_final = pd.DataFrame(columns=(Dates_list))\n",
    "    Data_final.insert(0,'Country',0)\n",
    "    for i in range(len(Country)):\n",
    "        Confirmed= list(df1.loc[Country[i]])\n",
    "        Confirmed = [Country[i]] + Confirmed\n",
    "        Recovered= list(df2.loc[Country[i]])\n",
    "        Recovered = [Country[i]] + Recovered\n",
    "        Deaths= list(df3.loc[Country[i]])\n",
    "        Deaths = [Country[i]] + Deaths\n",
    "        Active= list(df4.loc[Country[i]])\n",
    "        Active = [Country[i]] + Active\n",
    "        Data = pd.DataFrame(columns=(Dates_list))\n",
    "        Data.insert(0,'Country',0)\n",
    "        Data_T = Data.T\n",
    "        Data_T['Confirmed'] = Confirmed\n",
    "        Data_T['Recovered'] = Recovered\n",
    "        Data_T['Deaths'] = Deaths\n",
    "        Data_T['Active'] = Active\n",
    "        Data_T2 = Data_T.T\n",
    "        Data_T2['Country'] = Country[i]\n",
    "        Data_final = Data_final.append(Data_T2)\n",
    "    return Data_final"
   ]
  },
  {
   "cell_type": "code",
   "execution_count": 20,
   "metadata": {},
   "outputs": [],
   "source": [
    "Final_Data = Integrated_data(Data_1,Confirmed_Data,Recovered_Data,Deaths_Data,Active_Data)"
   ]
  },
  {
   "cell_type": "code",
   "execution_count": 21,
   "metadata": {},
   "outputs": [],
   "source": [
    "Save_file(Final_Data,\"Final_Data_Combined\",1)"
   ]
  },
  {
   "cell_type": "code",
   "execution_count": 22,
   "metadata": {},
   "outputs": [],
   "source": [
    "Data_2 = Clean_data(Data_read,Data_raw_2)"
   ]
  },
  {
   "cell_type": "code",
   "execution_count": 23,
   "metadata": {},
   "outputs": [],
   "source": [
    "def Date_processing(df):\n",
    "    df['Date'] = pd.to_datetime(df['Date']).dt.strftime('%Y-%m-%d')\n",
    "    df_list = list(df['Date'])\n",
    "    B=[]\n",
    "    P=[]\n",
    "    O=[]\n",
    "    K=[]\n",
    "    for i in range(len(df_list)):\n",
    "        A = str(df_list[i])\n",
    "        datee = datetime.strptime(A,'%Y-%m-%d').date()\n",
    "        B.append(datee.month)\n",
    "        T = datetime.strptime(A,'%Y-%m-%d').weekday() \n",
    "        P.append(T)\n",
    "        Y = (calendar.day_name[T]) \n",
    "        O.append(Y)\n",
    "        U = datetime.strptime(A,'%Y-%m-%d').isocalendar()[1]\n",
    "        K.append(U)\n",
    "    df['Month'] = B\n",
    "    df['Day_number'] = P\n",
    "    df['Day'] = O\n",
    "    df['Week'] = K\n",
    "    C = df['Month']\n",
    "    D=[]\n",
    "    for i in range(len(C)):\n",
    "        if C[i] == 1:\n",
    "            D.append(\"January\")\n",
    "        elif C[i] == 2:\n",
    "            D.append(\"February\")\n",
    "        elif C[i] == 3:\n",
    "            D.append(\"March\")\n",
    "        elif C[i] == 4:\n",
    "            D.append(\"April\")\n",
    "        elif C[i] == 5:\n",
    "            D.append(\"May\")\n",
    "        elif C[i] == 6:\n",
    "            D.append(\"June\")\n",
    "        elif C[i] == 7:\n",
    "            D.append(\"July\")\n",
    "        elif C[i] == 8:\n",
    "            D.append(\"August\")\n",
    "        elif C[i] == 9:\n",
    "            D.append(\"Spetember\")\n",
    "        elif C[i] == 10:\n",
    "            D.append(\"October\")\n",
    "        elif C[i] == 11:\n",
    "            D.append(\"November\")\n",
    "        elif C[i] == 12:\n",
    "            D.append(\"December\")\n",
    "    \n",
    "    df['Month_name'] = D\n",
    "    \n",
    "    return df"
   ]
  },
  {
   "cell_type": "code",
   "execution_count": 24,
   "metadata": {},
   "outputs": [],
   "source": [
    "Data_date_2 = Date_processing(Data_2)"
   ]
  },
  {
   "cell_type": "code",
   "execution_count": 25,
   "metadata": {},
   "outputs": [],
   "source": [
    "Save_file(Data_date_2,\"Data_with_new_columns\",0)"
   ]
  },
  {
   "cell_type": "code",
   "execution_count": 26,
   "metadata": {},
   "outputs": [],
   "source": [
    "def World_Dataset(df,df1,df2,df3,df4):\n",
    "    Dates_l =(df['Date'].unique())\n",
    "    I = ['Confirmed','Deaths','Active','Recovered']\n",
    "    W_D = pd.DataFrame(index=I,columns=(Dates_l))\n",
    "    V = W_D.shape[1]\n",
    "    for i in range(V):\n",
    "        Ao=Dates_l[i]\n",
    "        tot_1  = list(df1[Ao])\n",
    "        total_1 = sum(tot_1)\n",
    "        W_D.loc['Confirmed'][Ao] = total_1\n",
    "        tot_2  = list(df2[Dates_l[i]])\n",
    "        total_2 = sum(tot_2)\n",
    "        W_D.loc['Deaths'][Ao] = total_2\n",
    "        tot_3  = list(df3[Dates_l[i]])\n",
    "        total_3 = sum(tot_3)\n",
    "        W_D.loc['Active'][Ao] = total_3\n",
    "        tot_4  = list(df4[Dates_l[i]])\n",
    "        total_4 = sum(tot_4)\n",
    "        W_D.loc['Recovered'][Ao] = total_4\n",
    "    \n",
    "    return W_D\n",
    "        "
   ]
  },
  {
   "cell_type": "code",
   "execution_count": 27,
   "metadata": {},
   "outputs": [],
   "source": [
    "World_Data = World_Dataset(Data_1,Confirmed_Data,Deaths_Data,Active_Data,Recovered_Data)"
   ]
  },
  {
   "cell_type": "code",
   "execution_count": 28,
   "metadata": {},
   "outputs": [],
   "source": [
    "World_Data_Summary = World_Data.T"
   ]
  },
  {
   "cell_type": "code",
   "execution_count": 29,
   "metadata": {},
   "outputs": [],
   "source": [
    "World_Data_Summary['Dates'] = World_Data_Summary.index"
   ]
  },
  {
   "cell_type": "code",
   "execution_count": 30,
   "metadata": {},
   "outputs": [],
   "source": [
    "Save_file(World_Data_Summary,\"World_Data_Summary\",0)"
   ]
  },
  {
   "cell_type": "code",
   "execution_count": 31,
   "metadata": {},
   "outputs": [
    {
     "name": "stdout",
     "output_type": "stream",
     "text": [
      "Script Ran Successfully\n"
     ]
    }
   ],
   "source": [
    "print(\"Script Ran Successfully\")"
   ]
  }
 ],
 "metadata": {
  "kernelspec": {
   "display_name": "Python 3",
   "language": "python",
   "name": "python3"
  },
  "language_info": {
   "codemirror_mode": {
    "name": "ipython",
    "version": 3
   },
   "file_extension": ".py",
   "mimetype": "text/x-python",
   "name": "python",
   "nbconvert_exporter": "python",
   "pygments_lexer": "ipython3",
   "version": "3.7.0"
  }
 },
 "nbformat": 4,
 "nbformat_minor": 2
}
