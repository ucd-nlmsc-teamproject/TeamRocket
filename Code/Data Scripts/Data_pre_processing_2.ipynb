{
 "cells": [
  {
   "cell_type": "code",
   "execution_count": 1,
   "metadata": {},
   "outputs": [],
   "source": [
    "import numpy as np\n",
    "import pandas as pd\n",
    "import requests\n",
    "import datetime\n",
    "import calendar \n",
    "import warnings\n",
    "warnings.filterwarnings(\"ignore\")"
   ]
  },
  {
   "cell_type": "code",
   "execution_count": 2,
   "metadata": {},
   "outputs": [],
   "source": [
    "# df = pd.read_json('https://api.covid19tracking.narrativa.com/api/2020-01-23')"
   ]
  },
  {
   "cell_type": "code",
   "execution_count": 3,
   "metadata": {},
   "outputs": [],
   "source": [
    "# df2 = pd.read_json('https://api.covid19tracking.narrativa.com/api/countries')"
   ]
  },
  {
   "cell_type": "code",
   "execution_count": 4,
   "metadata": {},
   "outputs": [],
   "source": [
    "# list1 = list(df2['countries'])\n",
    "# df3 = pd.DataFrame(list1)"
   ]
  },
  {
   "cell_type": "code",
   "execution_count": 5,
   "metadata": {},
   "outputs": [],
   "source": [
    "# df4 = pd.read_json('https://api.covid19tracking.narrativa.com/api/2020-03-22/country/afghanistan')"
   ]
  },
  {
   "cell_type": "code",
   "execution_count": 6,
   "metadata": {},
   "outputs": [],
   "source": [
    "# Aa = df4.T['2020-03-22']"
   ]
  },
  {
   "cell_type": "code",
   "execution_count": 7,
   "metadata": {},
   "outputs": [],
   "source": [
    "# Bb = Aa.T['dates']"
   ]
  },
  {
   "cell_type": "code",
   "execution_count": 8,
   "metadata": {},
   "outputs": [],
   "source": [
    "df_raw = pd.read_csv('https://raw.githubusercontent.com/microsoft/Bing-COVID-19-Data/master/data/Bing-COVID19-Data.csv')"
   ]
  },
  {
   "cell_type": "code",
   "execution_count": 82,
   "metadata": {},
   "outputs": [],
   "source": [
    "df_raw.to_csv(\"Raw_data_2.csv\",index=False)"
   ]
  },
  {
   "cell_type": "code",
   "execution_count": 22,
   "metadata": {},
   "outputs": [],
   "source": [
    "def Clean_preprocess(df):\n",
    "    df_1 = pd.DataFrame()\n",
    "    df_2 = pd.DataFrame()\n",
    "    df_3 = pd.DataFrame()\n",
    "    df= df.drop(['ID','ConfirmedChange','DeathsChange', 'RecoveredChange', 'Latitude', 'Longitude','ISO3'],axis=1)\n",
    "    df = df.fillna(0)\n",
    "    df = df.rename(columns={'Updated': 'Date', 'Country_Region': 'Country'})\n",
    "    df_1 = df_1.append(df.loc[df['Country'] == 'Worldwide'])\n",
    "    df_2 = df_2.append(df.loc[df['Country'] != 'Worldwide'])\n",
    "    C = df_2['Country'].unique()\n",
    "    for i in range(len(C)):\n",
    "        df_0 = df_2[(df_2['Country'] == C[i]) & (df_2['AdminRegion1'] ==0) & (df_2['AdminRegion2'] ==0)]\n",
    "        df_3 = df_3.append(df_0)\n",
    "    \n",
    "    df_3 = df_3.drop(['AdminRegion1','AdminRegion2'],axis=1)\n",
    "    return df,df_1,df_3"
   ]
  },
  {
   "cell_type": "code",
   "execution_count": 23,
   "metadata": {},
   "outputs": [],
   "source": [
    "df,World_data, Country_wise_data = Clean_preprocess(df_raw)"
   ]
  },
  {
   "cell_type": "code",
   "execution_count": 25,
   "metadata": {},
   "outputs": [],
   "source": [
    "# df.to_csv(\"Cleaned_Raw_data_2.csv\",index=False)\n",
    "World_data.to_csv(\"World_data_timeseries.csv\",index=False)\n",
    "Country_wise_data.to_csv(\"Country_wise_data_timeseries.csv\",index=False)"
   ]
  },
  {
   "cell_type": "code",
   "execution_count": 13,
   "metadata": {},
   "outputs": [],
   "source": [
    "# df_irl = pd.read_csv('http://opendata-geohive.hub.arcgis.com/datasets/d9be85b30d7748b5b7c09450b8aede63_0.csv?outSR={%22latestWkid%22:3857,%22wkid%22:102100}')"
   ]
  },
  {
   "cell_type": "code",
   "execution_count": 14,
   "metadata": {},
   "outputs": [],
   "source": [
    "# df_irl= df_irl.drop(['OBJECTID', 'ORIGID','IGEasting', 'IGNorthing', 'Lat', 'Long', 'UGI', 'Shape__Area', 'Shape__Length'],axis=1)"
   ]
  },
  {
   "cell_type": "code",
   "execution_count": 15,
   "metadata": {},
   "outputs": [],
   "source": [
    "# df_irl"
   ]
  },
  {
   "cell_type": "code",
   "execution_count": 108,
   "metadata": {},
   "outputs": [
    {
     "data": {
      "text/html": [
       "<div>\n",
       "<style scoped>\n",
       "    .dataframe tbody tr th:only-of-type {\n",
       "        vertical-align: middle;\n",
       "    }\n",
       "\n",
       "    .dataframe tbody tr th {\n",
       "        vertical-align: top;\n",
       "    }\n",
       "\n",
       "    .dataframe thead th {\n",
       "        text-align: right;\n",
       "    }\n",
       "</style>\n",
       "<table border=\"1\" class=\"dataframe\">\n",
       "  <thead>\n",
       "    <tr style=\"text-align: right;\">\n",
       "      <th></th>\n",
       "      <th>Country</th>\n",
       "      <th>CountryCode</th>\n",
       "      <th>Date</th>\n",
       "      <th>NewConfirmed</th>\n",
       "      <th>NewDeaths</th>\n",
       "      <th>NewRecovered</th>\n",
       "      <th>Premium</th>\n",
       "      <th>TotalConfirmed</th>\n",
       "      <th>TotalDeaths</th>\n",
       "      <th>TotalRecovered</th>\n",
       "    </tr>\n",
       "  </thead>\n",
       "  <tbody>\n",
       "    <tr>\n",
       "      <th>117</th>\n",
       "      <td>Namibia</td>\n",
       "      <td>NA</td>\n",
       "      <td>2020-07-07</td>\n",
       "      <td>73</td>\n",
       "      <td>0</td>\n",
       "      <td>0</td>\n",
       "      <td>{}</td>\n",
       "      <td>485</td>\n",
       "      <td>0</td>\n",
       "      <td>25</td>\n",
       "    </tr>\n",
       "  </tbody>\n",
       "</table>\n",
       "</div>"
      ],
      "text/plain": [
       "     Country CountryCode        Date  NewConfirmed  NewDeaths  NewRecovered  \\\n",
       "117  Namibia          NA  2020-07-07            73          0             0   \n",
       "\n",
       "    Premium  TotalConfirmed  TotalDeaths  TotalRecovered  \n",
       "117      {}             485            0              25  "
      ]
     },
     "execution_count": 108,
     "metadata": {},
     "output_type": "execute_result"
    }
   ],
   "source": [
    "df_JH_sum = pd.read_csv('Summary_data.csv')\n",
    "\n",
    "U = df_JH_sum[df_JH_sum['CountryCode'].isnull()].index.tolist()[0]\n",
    "df_JH_sum.loc[U,'CountryCode'] = \"NA\"\n",
    "df_JH_sum.loc[[U]]"
   ]
  },
  {
   "cell_type": "code",
   "execution_count": 121,
   "metadata": {},
   "outputs": [
    {
     "data": {
      "text/plain": [
       "36"
      ]
     },
     "execution_count": 121,
     "metadata": {},
     "output_type": "execute_result"
    }
   ],
   "source": [
    "GG = list(Country_wise_data['ISO2'].unique())\n",
    "GL = list(df_JH_sum['CountryCode'].unique())\n",
    "FF = list(set(GG) - set(GL))\n",
    "len(FF[1:])"
   ]
  }
 ],
 "metadata": {
  "kernelspec": {
   "display_name": "Python 3",
   "language": "python",
   "name": "python3"
  },
  "language_info": {
   "codemirror_mode": {
    "name": "ipython",
    "version": 3
   },
   "file_extension": ".py",
   "mimetype": "text/x-python",
   "name": "python",
   "nbconvert_exporter": "python",
   "pygments_lexer": "ipython3",
   "version": "3.7.1"
  }
 },
 "nbformat": 4,
 "nbformat_minor": 2
}
