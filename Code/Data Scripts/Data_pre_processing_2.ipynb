{
 "cells": [
  {
   "cell_type": "code",
   "execution_count": 1,
   "metadata": {},
   "outputs": [],
   "source": [
    "import numpy as np\n",
    "import pandas as pd\n",
    "import requests\n",
    "import datetime\n",
    "import calendar \n",
    "import warnings\n",
    "import os\n",
    "warnings.filterwarnings(\"ignore\")"
   ]
  },
  {
   "cell_type": "code",
   "execution_count": 2,
   "metadata": {},
   "outputs": [],
   "source": [
    "def Save_file(df,name,I):\n",
    "    path =r\"C:\\Users\\visha\\Final Semester Project\\CSV Data\"\n",
    "    output_file = os.path.join(path,'%s.csv'%name)\n",
    "    if I == 1:\n",
    "        df.to_csv(output_file)\n",
    "    elif I == 0:\n",
    "        df.to_csv(output_file,index=False)"
   ]
  },
  {
   "cell_type": "code",
   "execution_count": 3,
   "metadata": {},
   "outputs": [],
   "source": [
    "df_raw = pd.read_csv('https://raw.githubusercontent.com/microsoft/Bing-COVID-19-Data/master/data/Bing-COVID19-Data.csv')"
   ]
  },
  {
   "cell_type": "code",
   "execution_count": 4,
   "metadata": {},
   "outputs": [],
   "source": [
    "Save_file(df_raw,\"Raw_data_2\",0)"
   ]
  },
  {
   "cell_type": "code",
   "execution_count": 5,
   "metadata": {},
   "outputs": [],
   "source": [
    "def Clean_preprocess(df):\n",
    "    df_1 = pd.DataFrame()\n",
    "    df_2 = pd.DataFrame()\n",
    "    df_3 = pd.DataFrame()\n",
    "    df= df.drop(['ID','ConfirmedChange','DeathsChange', 'RecoveredChange', 'Latitude', 'Longitude','ISO3'],axis=1)\n",
    "    df = df.fillna(0)\n",
    "    df = df.rename(columns={'Updated': 'Date', 'Country_Region': 'Country'})\n",
    "    df_1 = df_1.append(df.loc[df['Country'] == 'Worldwide'])\n",
    "    df_2 = df_2.append(df.loc[df['Country'] != 'Worldwide'])\n",
    "    C = df_2['Country'].unique()\n",
    "    for i in range(len(C)):\n",
    "        df_0 = df_2[(df_2['Country'] == C[i]) & (df_2['AdminRegion1'] ==0) & (df_2['AdminRegion2'] ==0)]\n",
    "        df_3 = df_3.append(df_0)\n",
    "    \n",
    "    df_3 = df_3.drop(['AdminRegion1','AdminRegion2'],axis=1)\n",
    "    return df,df_1,df_3"
   ]
  },
  {
   "cell_type": "code",
   "execution_count": 6,
   "metadata": {},
   "outputs": [],
   "source": [
    "df,World_data, Country_wise_data = Clean_preprocess(df_raw)"
   ]
  },
  {
   "cell_type": "code",
   "execution_count": 7,
   "metadata": {},
   "outputs": [],
   "source": [
    "Save_file(World_data,\"World_data_timeseries\",0)\n",
    "Save_file(Country_wise_data,\"Country_wise_data_timeseries\",0)"
   ]
  },
  {
   "cell_type": "code",
   "execution_count": 8,
   "metadata": {},
   "outputs": [
    {
     "name": "stdout",
     "output_type": "stream",
     "text": [
      "Script Ran Successfully\n"
     ]
    }
   ],
   "source": [
    "print(\"Script Ran Successfully\")"
   ]
  }
 ],
 "metadata": {
  "kernelspec": {
   "display_name": "Python 3",
   "language": "python",
   "name": "python3"
  },
  "language_info": {
   "codemirror_mode": {
    "name": "ipython",
    "version": 3
   },
   "file_extension": ".py",
   "mimetype": "text/x-python",
   "name": "python",
   "nbconvert_exporter": "python",
   "pygments_lexer": "ipython3",
   "version": "3.7.0"
  }
 },
 "nbformat": 4,
 "nbformat_minor": 2
}
