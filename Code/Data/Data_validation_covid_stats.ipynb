{
 "cells": [
  {
   "cell_type": "code",
   "execution_count": 1,
   "metadata": {},
   "outputs": [],
   "source": [
    "import pandas as pd"
   ]
  },
  {
   "cell_type": "code",
   "execution_count": 14,
   "metadata": {},
   "outputs": [],
   "source": [
    "### Give the appropriate file directory"
   ]
  },
  {
   "cell_type": "code",
   "execution_count": 2,
   "metadata": {},
   "outputs": [],
   "source": [
    "raw_data = pd.read_csv(\"C:/Users/mani_/Downloads/Raw_Data.csv\")\n",
    "confirmed = pd.read_csv(\"C:/Users/mani_/Downloads/Confirmed_Data.csv\")\n",
    "recovered = pd.read_csv(\"C:/Users/mani_/Downloads/Recovered_Data.csv\")\n",
    "deaths = pd.read_csv(\"C:/Users/mani_/Downloads/Deaths_Data.csv\")\n",
    "active = pd.read_csv(\"C:/Users/mani_/Downloads/Active_Data.csv\")"
   ]
  },
  {
   "cell_type": "code",
   "execution_count": 15,
   "metadata": {},
   "outputs": [],
   "source": [
    "### Checking if raw data matches with Confirmed cases data - Values match if O/P is 0 "
   ]
  },
  {
   "cell_type": "code",
   "execution_count": 4,
   "metadata": {},
   "outputs": [
    {
     "data": {
      "text/plain": [
       "0"
      ]
     },
     "execution_count": 4,
     "metadata": {},
     "output_type": "execute_result"
    }
   ],
   "source": [
    "stacked = confirmed.set_index('Unnamed: 0').stack()\n",
    "\n",
    "df = stacked.reset_index(name='2020')\n",
    "\n",
    "df.drop('level_1', axis=1, inplace=True)\n",
    "\n",
    "check_confirmed = pd.concat([df['2020'], raw_data['Confirmed']], axis=1, keys=['confirmed', 'raw_data_conf'])\n",
    "\n",
    "diff_column = check_confirmed[\"confirmed\"] - check_confirmed[\"raw_data_conf\"]\n",
    "check_confirmed[\"difference\"] = diff_column\n",
    "\n",
    "check_confirmed['difference'].sum()"
   ]
  },
  {
   "cell_type": "code",
   "execution_count": 16,
   "metadata": {},
   "outputs": [],
   "source": [
    "### Checking if raw data matches with Recovered cases data - Values match if O/P is 0 "
   ]
  },
  {
   "cell_type": "code",
   "execution_count": 11,
   "metadata": {},
   "outputs": [
    {
     "data": {
      "text/plain": [
       "0"
      ]
     },
     "execution_count": 11,
     "metadata": {},
     "output_type": "execute_result"
    }
   ],
   "source": [
    "stacked = recovered.set_index('Unnamed: 0').stack()\n",
    "\n",
    "df = stacked.reset_index(name='2020')\n",
    "\n",
    "df.drop('level_1', axis=1, inplace=True)\n",
    "\n",
    "check_recovered = pd.concat([df['2020'], raw_data['Recovered']], axis=1, keys=['recovered', 'raw_data_recovered'])\n",
    "\n",
    "diff_column = check_recovered[\"recovered\"] - check_recovered[\"raw_data_recovered\"]\n",
    "check_recovered[\"difference\"] = diff_column\n",
    "\n",
    "check_recovered['difference'].sum()"
   ]
  },
  {
   "cell_type": "code",
   "execution_count": 17,
   "metadata": {},
   "outputs": [],
   "source": [
    "### Checking if raw data matches with Deaths data - Values match if O/P is 0 "
   ]
  },
  {
   "cell_type": "code",
   "execution_count": 12,
   "metadata": {},
   "outputs": [
    {
     "data": {
      "text/plain": [
       "0"
      ]
     },
     "execution_count": 12,
     "metadata": {},
     "output_type": "execute_result"
    }
   ],
   "source": [
    "stacked = deaths.set_index('Unnamed: 0').stack()\n",
    "\n",
    "df = stacked.reset_index(name='2020')\n",
    "\n",
    "df.drop('level_1', axis=1, inplace=True)\n",
    "\n",
    "check_deaths = pd.concat([df['2020'], raw_data['Deaths']], axis=1, keys=['deaths', 'raw_data_deaths'])\n",
    "\n",
    "diff_column = check_deaths[\"deaths\"] - check_deaths[\"raw_data_deaths\"]\n",
    "check_deaths[\"difference\"] = diff_column\n",
    "\n",
    "check_deaths['difference'].sum()"
   ]
  },
  {
   "cell_type": "code",
   "execution_count": 18,
   "metadata": {},
   "outputs": [],
   "source": [
    "### Checking if raw data matches with Active cases data - Values match if O/P is 0 "
   ]
  },
  {
   "cell_type": "code",
   "execution_count": 13,
   "metadata": {},
   "outputs": [
    {
     "data": {
      "text/plain": [
       "0"
      ]
     },
     "execution_count": 13,
     "metadata": {},
     "output_type": "execute_result"
    }
   ],
   "source": [
    "stacked = active.set_index('Unnamed: 0').stack()\n",
    "\n",
    "df = stacked.reset_index(name='2020')\n",
    "\n",
    "df.drop('level_1', axis=1, inplace=True)\n",
    "\n",
    "check_active = pd.concat([df['2020'], raw_data['Active']], axis=1, keys=['active', 'raw_data_active'])\n",
    "\n",
    "diff_column = check_active[\"active\"] - check_active[\"raw_data_active\"]\n",
    "check_active[\"difference\"] = diff_column\n",
    "\n",
    "check_active['difference'].sum()"
   ]
  }
 ],
 "metadata": {
  "kernelspec": {
   "display_name": "Python 3",
   "language": "python",
   "name": "python3"
  },
  "language_info": {
   "codemirror_mode": {
    "name": "ipython",
    "version": 3
   },
   "file_extension": ".py",
   "mimetype": "text/x-python",
   "name": "python",
   "nbconvert_exporter": "python",
   "pygments_lexer": "ipython3",
   "version": "3.7.3"
  }
 },
 "nbformat": 4,
 "nbformat_minor": 2
}
